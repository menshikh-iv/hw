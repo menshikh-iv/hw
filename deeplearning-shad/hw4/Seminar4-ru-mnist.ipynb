{
 "cells": [
  {
   "cell_type": "markdown",
   "metadata": {},
   "source": [
    "# Theano, Lasagne\n",
    "и с чем их едят"
   ]
  },
  {
   "cell_type": "markdown",
   "metadata": {},
   "source": [
    "# разминка\n",
    "* напиши на numpy функцию, которая считает сумму квадратов чисел от 0 до N, где N - аргумент\n",
    "* массив чисел от 0 до N - numpy.arange(N)"
   ]
  },
  {
   "cell_type": "code",
   "execution_count": 1,
   "metadata": {
    "collapsed": false
   },
   "outputs": [
    {
     "name": "stdout",
     "output_type": "stream",
     "text": [
      "Requirement already satisfied: Theano==0.8.2 in /home/ivan/.virtualenvs/math/lib/python2.7/site-packages\n",
      "Requirement already satisfied: six>=1.9.0 in /home/ivan/.virtualenvs/math/lib/python2.7/site-packages (from Theano==0.8.2)\n",
      "Requirement already satisfied: numpy>=1.7.1 in /home/ivan/.virtualenvs/math/lib/python2.7/site-packages (from Theano==0.8.2)\n",
      "Requirement already satisfied: scipy>=0.11 in /home/ivan/.virtualenvs/math/lib/python2.7/site-packages (from Theano==0.8.2)\n",
      "Collecting https://github.com/Lasagne/Lasagne/archive/master.zip\n",
      "  Downloading https://github.com/Lasagne/Lasagne/archive/master.zip (223kB)\n",
      "\u001b[K    100% |████████████████████████████████| 225kB 409kB/s \n",
      "\u001b[?25h  Requirement already satisfied (use --upgrade to upgrade): Lasagne==0.2.dev1 from https://github.com/Lasagne/Lasagne/archive/master.zip in /home/ivan/.virtualenvs/math/lib/python2.7/site-packages\n",
      "Requirement already satisfied: numpy in /home/ivan/.virtualenvs/math/lib/python2.7/site-packages (from Lasagne==0.2.dev1)\n"
     ]
    }
   ],
   "source": [
    "!pip install Theano==0.8.2\n",
    "!pip install https://github.com/Lasagne/Lasagne/archive/master.zip"
   ]
  },
  {
   "cell_type": "code",
   "execution_count": 2,
   "metadata": {
    "collapsed": false
   },
   "outputs": [],
   "source": [
    "import numpy as np\n",
    "def sum_squares(N):\n",
    "    return np.sum(np.arange(N) ** 2)"
   ]
  },
  {
   "cell_type": "code",
   "execution_count": 3,
   "metadata": {
    "collapsed": false
   },
   "outputs": [
    {
     "name": "stdout",
     "output_type": "stream",
     "text": [
      "CPU times: user 296 ms, sys: 452 ms, total: 748 ms\n",
      "Wall time: 328 ms\n"
     ]
    },
    {
     "data": {
      "text/plain": [
       "662921401752298880"
      ]
     },
     "execution_count": 3,
     "metadata": {},
     "output_type": "execute_result"
    }
   ],
   "source": [
    "%%time\n",
    "sum_squares(10**8)"
   ]
  },
  {
   "cell_type": "markdown",
   "metadata": {},
   "source": [
    "# theano teaser\n",
    "\n",
    "Как сделать то же самое"
   ]
  },
  {
   "cell_type": "code",
   "execution_count": 4,
   "metadata": {
    "collapsed": false
   },
   "outputs": [
    {
     "name": "stderr",
     "output_type": "stream",
     "text": [
      "Using gpu device 0: Quadro M1000M (CNMeM is disabled, cuDNN 5105)\n",
      "/home/ivan/.virtualenvs/math/local/lib/python2.7/site-packages/theano/sandbox/cuda/__init__.py:600: UserWarning: Your cuDNN version is more recent than the one Theano officially supports. If you see any problems, try updating Theano or downgrading cuDNN to version 5.\n",
      "  warnings.warn(warn)\n"
     ]
    }
   ],
   "source": [
    "import theano\n",
    "import theano.tensor as T"
   ]
  },
  {
   "cell_type": "code",
   "execution_count": 5,
   "metadata": {
    "collapsed": false
   },
   "outputs": [],
   "source": [
    "\n",
    "\n",
    "#будущий параметр функции\n",
    "N = T.scalar(\"a dimension\",dtype='int32')\n",
    "\n",
    "\n",
    "#рецепт получения суммы квадратов\n",
    "result = (T.arange(N)**2).sum()\n",
    "\n",
    "#компиляция функции \"сумма квадратов\" чисел от 0 до N\n",
    "sum_function = theano.function(inputs = [N],outputs=result)"
   ]
  },
  {
   "cell_type": "code",
   "execution_count": 6,
   "metadata": {
    "collapsed": false
   },
   "outputs": [
    {
     "name": "stdout",
     "output_type": "stream",
     "text": [
      "CPU times: user 192 ms, sys: 44 ms, total: 236 ms\n",
      "Wall time: 234 ms\n"
     ]
    },
    {
     "data": {
      "text/plain": [
       "array(662921401752298880)"
      ]
     },
     "execution_count": 6,
     "metadata": {},
     "output_type": "execute_result"
    }
   ],
   "source": [
    "%%time\n",
    "sum_function(10**8)"
   ]
  },
  {
   "cell_type": "markdown",
   "metadata": {},
   "source": [
    "# Как оно работает?\n",
    "* Нужно написать \"рецепт\" получения выходов по входам\n",
    "* То же самое на заумном: нужно описать символический граф вычислений\n",
    "\n",
    "\n",
    "* 2 вида зверей - \"входы\" и \"преобразования\"\n",
    "* Оба могут быть числами, массивами, матрицами, тензорами и т.п.\n",
    "\n",
    "\n",
    "* Вход - это то аргумент функции. То место, на которое подставится аргумент вызове.\n",
    " * N - вход в примере выше\n",
    "\n",
    "\n",
    "* Преобразования - рецепты вычисления чего-то на основе входов и констант\n",
    " * (T.arange(N)^2).sum() - 3 последовательных преобразования N\n",
    " * Работают почти 1 в 1 как векторные операции в numpy\n",
    " * почти всё, что есть в numpy есть в theano tensor и называется так же\n",
    "   * np.mean -> T.mean\n",
    "   * np.arange -> T.arange\n",
    "   * np.cumsum -> T.cumsum\n",
    "   * и так далее...\n",
    "   * Совсем редко - бывает, что меняется название или синтаксис - нужно спросить у семинаристов или гугла\n",
    " \n",
    " \n",
    "Ничего не понятно? Сейчас исправим."
   ]
  },
  {
   "cell_type": "code",
   "execution_count": 7,
   "metadata": {
    "collapsed": false
   },
   "outputs": [],
   "source": [
    "#входы\n",
    "example_input_integer = T.scalar(\"вход - одно число(пример)\",dtype='float32')\n",
    "\n",
    "example_input_tensor = T.tensor4(\"вход - четырёхмерный тензор(пример)\")\n",
    "#не бойся, тензор нам не пригодитс\n",
    "\n",
    "\n",
    "input_vector = T.vector(\"вход - вектор целых чисел\", dtype='int32')\n"
   ]
  },
  {
   "cell_type": "code",
   "execution_count": 8,
   "metadata": {
    "collapsed": false
   },
   "outputs": [],
   "source": [
    "#преобразования\n",
    "\n",
    "#поэлементное умножение\n",
    "double_the_vector = input_vector*2\n",
    "\n",
    "#поэлементный косинус\n",
    "elementwise_cosine = T.cos(input_vector)\n",
    "\n",
    "#разность квадрата каждого элемента и самого элемента\n",
    "vector_squares = input_vector**2 - input_vector\n"
   ]
  },
  {
   "cell_type": "code",
   "execution_count": 9,
   "metadata": {
    "collapsed": false
   },
   "outputs": [
    {
     "data": {
      "text/plain": [
       "Elemwise{mul,no_inplace}.0"
      ]
     },
     "execution_count": 9,
     "metadata": {},
     "output_type": "execute_result"
    }
   ],
   "source": [
    "double_the_vector"
   ]
  },
  {
   "cell_type": "code",
   "execution_count": 10,
   "metadata": {
    "collapsed": false
   },
   "outputs": [],
   "source": [
    "#теперь сам:\n",
    "#создай 2 вектора из чисел float32\n",
    "my_vector = T.vector(\"v1\", dtype='float32')\n",
    "my_vector2 = T.vector(\"v2\", dtype='float32')"
   ]
  },
  {
   "cell_type": "code",
   "execution_count": 11,
   "metadata": {
    "collapsed": false
   },
   "outputs": [],
   "source": [
    "#напиши преобразование, которое считает\n",
    "#(вектор 1)*(вектор 2) / (sin(вектор 1) +1)\n",
    "my_transformation = my_vector * my_vector2 / (T.sin(my_vector) + T.constant(1))"
   ]
  },
  {
   "cell_type": "code",
   "execution_count": 12,
   "metadata": {
    "collapsed": false
   },
   "outputs": [
    {
     "name": "stdout",
     "output_type": "stream",
     "text": [
      "Elemwise{true_div,no_inplace}.0\n"
     ]
    }
   ],
   "source": [
    "print (my_transformation)\n",
    "#то, что получилась не чиселка - это нормально"
   ]
  },
  {
   "cell_type": "markdown",
   "metadata": {},
   "source": [
    "# Компиляция\n",
    "* До этого момента, мы использовали \"символические\" переменные\n",
    " * писали рецепт вычислений, но ничего не вычисляли\n",
    "* чтобы рецепт можно было использовать, его нужно скомпилировать"
   ]
  },
  {
   "cell_type": "code",
   "execution_count": 13,
   "metadata": {
    "collapsed": false
   },
   "outputs": [],
   "source": [
    "inputs = [my_vector, my_vector2]\n",
    "outputs = [my_transformation]\n",
    "\n",
    "# можно скомпилировать написанные нами преобразования как функцию\n",
    "my_function = theano.function(\n",
    "    inputs,outputs,\n",
    "    allow_input_downcast=True #автоматически прводить типы (необязательно)\n",
    " )"
   ]
  },
  {
   "cell_type": "code",
   "execution_count": 14,
   "metadata": {
    "collapsed": false
   },
   "outputs": [
    {
     "name": "stdout",
     "output_type": "stream",
     "text": [
      "using python lists:\n",
      "[array([  2.1721766 ,   5.23752832,  15.77397728], dtype=float32)]\n",
      "()\n",
      "using numpy arrays:\n",
      "[array([   0.        ,    2.77555895,    5.47030783,   14.02131271,\n",
      "         89.5477066 ,  676.25805664,   47.183918  ,   24.4084301 ,\n",
      "         23.68156242,   38.24041748], dtype=float32)]\n"
     ]
    }
   ],
   "source": [
    "#можно вызвать вот-так:\n",
    "print (\"using python lists:\")\n",
    "print (my_function([1,2,3],[4,5,6]))\n",
    "print()\n",
    "\n",
    "#а можно так. \n",
    "#К слову, ту тип float приводится к типу второго вектора\n",
    "print (\"using numpy arrays:\")\n",
    "print (my_function(np.arange(10),\n",
    "                  np.linspace(5,6,10,dtype='float')))\n"
   ]
  },
  {
   "cell_type": "markdown",
   "metadata": {},
   "source": [
    "# хинт для отладки\n",
    "* Если ваша функция большая, компиляция может отнять какое-то время.\n",
    "* Чтобы не ждать, можно посчитать выражение без компиляции\n",
    "* Вы экономите время 1 раз на компиляции, но сам код выполняется медленнее\n"
   ]
  },
  {
   "cell_type": "code",
   "execution_count": 15,
   "metadata": {
    "collapsed": false
   },
   "outputs": [
    {
     "name": "stdout",
     "output_type": "stream",
     "text": [
      "[  2.1721766    5.23752832  15.77397728]\n",
      "сумма 2 векторов\n",
      "[ 5.  7.  9.]\n",
      "форма первого вектора\n",
      "[3]\n"
     ]
    }
   ],
   "source": [
    "#словарик значений для входов\n",
    "my_function_inputs = {\n",
    "    my_vector:[1,2,3],\n",
    "    my_vector2:[4,5,6]\n",
    "}\n",
    "\n",
    "#вычислить без компиляции\n",
    "#если мы ничего не перепутали, \n",
    "#должно получиться точно то же, что и раньше\n",
    "print my_transformation.eval(my_function_inputs)\n",
    "\n",
    "\n",
    "#можно вычислять преобразования на ходу\n",
    "print(\"сумма 2 векторов\")\n",
    "print((my_vector + my_vector2).eval(my_function_inputs))\n",
    "\n",
    "#!ВАЖНО! если преобразование зависит только от части переменных,\n",
    "#остальные давать не надо\n",
    "print(\"форма первого вектора\")\n",
    "print(my_vector.shape.eval({my_vector:[1,2,3]}))\n"
   ]
  },
  {
   "cell_type": "markdown",
   "metadata": {},
   "source": [
    "* Для отладки желательно уменьшить масштаб задачи. Если вы планировали послать на вход вектор из 10^9 примеров, пошлите 10~100.\n",
    "* Если #ОЧЕНЬ нужно послать большой вектор, быстрее скомпилировать функцию обычным способом"
   ]
  },
  {
   "cell_type": "markdown",
   "metadata": {},
   "source": [
    "# Теперь сам: MSE (2 pts)"
   ]
  },
  {
   "cell_type": "code",
   "execution_count": 16,
   "metadata": {
    "collapsed": false
   },
   "outputs": [],
   "source": [
    "# Задание 1 - напиши и скомпилируй theano-функцию, которая считает среднеквадратичную ошибку двух векторов-входов\n",
    "# Вернуть нужно одно число - собственно, ошибку. Обновлять ничего не нужно\n",
    "\n",
    "v1 = T.vector(\"v1\", dtype='float32')\n",
    "v2 = T.vector(\"v2\", dtype='float32')\n",
    "\n",
    "mse = T.sum((v2- v1) ** 2) / v1.shape\n",
    "\n",
    "compute_mse = theano.function([v1, v2], mse, allow_input_downcast=True)"
   ]
  },
  {
   "cell_type": "code",
   "execution_count": 17,
   "metadata": {
    "collapsed": false
   },
   "outputs": [
    {
     "name": "stdout",
     "output_type": "stream",
     "text": [
      "All tests passed\n"
     ]
    }
   ],
   "source": [
    "#тесты\n",
    "from sklearn.metrics import mean_squared_error\n",
    "\n",
    "for n in [1,5,10,10**3]:\n",
    "    \n",
    "    elems = [np.arange(n),np.arange(n,0,-1), np.zeros(n),\n",
    "             np.ones(n),np.random.random(n),np.random.randint(100,size=n)]\n",
    "    \n",
    "    for el in elems:\n",
    "        for el_2 in elems:\n",
    "            true_mse = np.array(mean_squared_error(el,el_2))\n",
    "            my_mse = compute_mse(el,el_2)\n",
    "            if not np.allclose(true_mse,my_mse):\n",
    "                print ('Wrong result:')\n",
    "                print ('mse(%s,%s)'%(el,el_2))\n",
    "                print (\"should be: %f, but your function returned %f\"%(true_mse,my_mse))\n",
    "                raise ValueError(\"Что-то не так\")\n",
    "\n",
    "print (\"All tests passed\")\n",
    "            \n",
    "    "
   ]
  },
  {
   "cell_type": "markdown",
   "metadata": {},
   "source": [
    "# Shared variables\n",
    "\n",
    "* Входы и преобразования - части рецепта. \n",
    " * Они существуют только во время вызова функции.\n",
    "\n",
    "\n",
    "* Shared переменные - всегда остаются в памяти\n",
    " * им можно поменять значение \n",
    "   * (но не внутри символического графа. Об этом позже)\n",
    " * их можно включить в граф вычислений\n",
    " \n",
    " \n",
    "* хинт - в таких переменных удобно хранить параметры и гиперпараметры\n",
    " * например, веса нейронки или learning rate, если вы его меняете"
   ]
  },
  {
   "cell_type": "code",
   "execution_count": 18,
   "metadata": {
    "collapsed": false
   },
   "outputs": [],
   "source": [
    "#cоздадим расшаренную перменную\n",
    "shared_vector_1 = theano.shared(np.ones(10,dtype='float64'))"
   ]
  },
  {
   "cell_type": "code",
   "execution_count": 19,
   "metadata": {
    "collapsed": false
   },
   "outputs": [
    {
     "name": "stdout",
     "output_type": "stream",
     "text": [
      "('initial value', array([ 1.,  1.,  1.,  1.,  1.,  1.,  1.,  1.,  1.,  1.]))\n"
     ]
    }
   ],
   "source": [
    "\n",
    "#получить (численное) значение переменной\n",
    "print (\"initial value\",shared_vector_1.get_value())"
   ]
  },
  {
   "cell_type": "code",
   "execution_count": 20,
   "metadata": {
    "collapsed": false
   },
   "outputs": [
    {
     "name": "stdout",
     "output_type": "stream",
     "text": [
      "('new value', array([ 0.,  1.,  2.,  3.,  4.]))\n"
     ]
    }
   ],
   "source": [
    "#задать новое значение\n",
    "shared_vector_1.set_value( np.arange(5) )\n",
    "\n",
    "#проверим значение\n",
    "print (\"new value\", shared_vector_1.get_value())\n",
    "\n",
    "#Заметь, что раньше это был вектор из 10 элементов, а сейчас - из 5. \n",
    "#Если граф при этом остался выполним, это сработает."
   ]
  },
  {
   "cell_type": "markdown",
   "metadata": {},
   "source": [
    "# Теперь сам"
   ]
  },
  {
   "cell_type": "code",
   "execution_count": 21,
   "metadata": {
    "collapsed": true
   },
   "outputs": [],
   "source": [
    "#напиши рецепт (преобразование), которое считает произведение(поэллементное) shared_vector на input_scalar\n",
    "#скомпилируй это в функцию от input_scalar\n",
    "\n",
    "input_scalar = T.scalar('coefficient',dtype='float32')\n",
    "\n",
    "scalar_times_shared = input_scalar * shared_vector_1\n",
    "\n",
    "\n",
    "shared_times_n = theano.function([input_scalar], scalar_times_shared, allow_input_downcast=True)\n"
   ]
  },
  {
   "cell_type": "code",
   "execution_count": 22,
   "metadata": {
    "collapsed": false
   },
   "outputs": [
    {
     "name": "stdout",
     "output_type": "stream",
     "text": [
      "('shared:', array([ 0.,  1.,  2.,  3.,  4.]))\n",
      "('shared_times_n(5)', array([  0.,   5.,  10.,  15.,  20.]))\n",
      "('shared_times_n(-0.5)', array([-0. , -0.5, -1. , -1.5, -2. ]))\n"
     ]
    }
   ],
   "source": [
    "print (\"shared:\", shared_vector_1.get_value())\n",
    "\n",
    "print (\"shared_times_n(5)\",shared_times_n(5))\n",
    "\n",
    "print (\"shared_times_n(-0.5)\",shared_times_n(-0.5))\n"
   ]
  },
  {
   "cell_type": "code",
   "execution_count": 23,
   "metadata": {
    "collapsed": false
   },
   "outputs": [
    {
     "name": "stdout",
     "output_type": "stream",
     "text": [
      "('shared:', array([-1.,  0.,  1.]))\n",
      "('shared_times_n(5)', array([-5.,  0.,  5.]))\n",
      "('shared_times_n(-0.5)', array([ 0.5, -0. , -0.5]))\n"
     ]
    }
   ],
   "source": [
    "#поменяем значение shared_vector_1\n",
    "shared_vector_1.set_value([-1,0,1])\n",
    "print (\"shared:\", shared_vector_1.get_value())\n",
    "\n",
    "print (\"shared_times_n(5)\",shared_times_n(5))\n",
    "\n",
    "print (\"shared_times_n(-0.5)\",shared_times_n(-0.5))\n"
   ]
  },
  {
   "cell_type": "markdown",
   "metadata": {},
   "source": [
    "# T.grad, самое вкусное\n",
    "* theano умеет само считать производные. Все, которые существуют.\n",
    "* Производные считаются в символическом, а не численном виде\n",
    "\n",
    "Ограничения\n",
    "* За раз можно считать производную __скалярной__ функции по одной или нескольким скалярным или векторным аргументам\n",
    "* Функция должна на всех этапах своего вычисления иметь тип float32 или float64 (т.к. на множестве целых чисел производная не имеет смысл)"
   ]
  },
  {
   "cell_type": "code",
   "execution_count": 24,
   "metadata": {
    "collapsed": false
   },
   "outputs": [],
   "source": [
    "my_scalar = T.scalar(name='input',dtype='float64')\n",
    "\n",
    "scalar_squared = T.sum(my_scalar**2)\n",
    "\n",
    "#производная v_squared по my_vector\n",
    "derivative = T.grad(scalar_squared,my_scalar)\n",
    "\n",
    "fun = theano.function([my_scalar],scalar_squared)\n",
    "grad = theano.function([my_scalar],derivative) "
   ]
  },
  {
   "cell_type": "code",
   "execution_count": 25,
   "metadata": {
    "collapsed": false
   },
   "outputs": [
    {
     "data": {
      "text/plain": [
       "<matplotlib.legend.Legend at 0x7f9388866690>"
      ]
     },
     "execution_count": 25,
     "metadata": {},
     "output_type": "execute_result"
    },
    {
     "data": {
      "image/png": "[encoded data removed]",
      "text/plain": [
       "<matplotlib.figure.Figure at 0x7f9394c48950>"
      ]
     },
     "metadata": {},
     "output_type": "display_data"
    }
   ],
   "source": [
    "import matplotlib.pyplot as plt\n",
    "%matplotlib inline\n",
    "\n",
    "\n",
    "x = np.linspace(-3,3)\n",
    "x_squared = list(map(fun,x))\n",
    "x_squared_der = list(map(grad,x))\n",
    "\n",
    "plt.plot(x, x_squared,label=\"x^2\")\n",
    "plt.plot(x, x_squared_der, label=\"derivative\")\n",
    "plt.legend()"
   ]
  },
  {
   "cell_type": "markdown",
   "metadata": {},
   "source": [
    "# теперь сам"
   ]
  },
  {
   "cell_type": "code",
   "execution_count": 26,
   "metadata": {
    "collapsed": false
   },
   "outputs": [],
   "source": [
    "\n",
    "my_vector = T.vector('float64')\n",
    "\n",
    "#посчитай производные этой функции по my_scalar и my_vector\n",
    "#warning! Не пытайся понять физический смысл этой функции\n",
    "weird_psychotic_function = ((my_vector+my_scalar)**(1+T.var(my_vector)) +1./T.arcsinh(my_scalar)).mean()/(my_scalar**2 +1) + 0.01*T.sin(2*my_scalar**1.5)*(T.sum(my_vector)* my_scalar**2)*T.exp((my_scalar-4)**2)/(1+T.exp((my_scalar-4)**2))*(1.-(T.exp(-(my_scalar-4)**2))/(1+T.exp(-(my_scalar-4)**2)))**2\n",
    "\n",
    "\n",
    "der_by_scalar,der_by_vector =  T.grad(weird_psychotic_function, my_scalar),  T.grad(weird_psychotic_function, my_vector)\n",
    "\n",
    "\n",
    "compute_weird_function = theano.function([my_scalar,my_vector],weird_psychotic_function)\n",
    "compute_der_by_scalar = theano.function([my_scalar,my_vector],der_by_scalar)\n"
   ]
  },
  {
   "cell_type": "code",
   "execution_count": 27,
   "metadata": {
    "collapsed": false
   },
   "outputs": [
    {
     "data": {
      "text/plain": [
       "<matplotlib.legend.Legend at 0x7f93801f5b90>"
      ]
     },
     "execution_count": 27,
     "metadata": {},
     "output_type": "execute_result"
    },
    {
     "data": {
      "image/png": "[encoded data removed]",
      "text/plain": [
       "<matplotlib.figure.Figure at 0x7f9383579790>"
      ]
     },
     "metadata": {},
     "output_type": "display_data"
    }
   ],
   "source": [
    "#график функции и твоей производной\n",
    "vector_0 = [1,2,3]\n",
    "\n",
    "scalar_space = np.linspace(0,7)\n",
    "\n",
    "y = [compute_weird_function(x,vector_0) for x in scalar_space]\n",
    "plt.plot(scalar_space,y,label='function')\n",
    "y_der_by_scalar = [compute_der_by_scalar(x,vector_0) for x in scalar_space]\n",
    "plt.plot(scalar_space,y_der_by_scalar,label='derivative')\n",
    "plt.grid();plt.legend()\n"
   ]
  },
  {
   "cell_type": "markdown",
   "metadata": {},
   "source": [
    "# Последний штрих - Updates\n",
    "\n",
    "* updates - это способ изменять значения shared переменных каждый раз В КОНЦЕ вызова функции\n",
    "\n",
    "* фактически, это словарь {shared_переменная: рецепт нового значения}, который добавляется в функцию при компиляции\n",
    "\n",
    "Например,"
   ]
  },
  {
   "cell_type": "code",
   "execution_count": 28,
   "metadata": {
    "collapsed": false
   },
   "outputs": [],
   "source": [
    "#умножим shared вектор на число и сохраним новое значение обратно в этот shared вектор\n",
    "\n",
    "inputs = [input_scalar]\n",
    "outputs = [scalar_times_shared] #вернём вектор, умноженный на число\n",
    "\n",
    "my_updates = {\n",
    "    shared_vector_1:scalar_times_shared #и этот же результат запишем в shared_vector_1\n",
    "}\n",
    "\n",
    "compute_and_save = theano.function(inputs, outputs, updates=my_updates)"
   ]
  },
  {
   "cell_type": "code",
   "execution_count": 29,
   "metadata": {
    "collapsed": false
   },
   "outputs": [
    {
     "name": "stdout",
     "output_type": "stream",
     "text": [
      "('initial shared value:', array([ 0.,  1.,  2.,  3.,  4.]))\n",
      "('compute_and_save(2) returns', [array([ 0.,  2.,  4.,  6.,  8.])])\n",
      "('new shared value:', array([ 0.,  2.,  4.,  6.,  8.]))\n"
     ]
    }
   ],
   "source": [
    "shared_vector_1.set_value(np.arange(5))\n",
    "\n",
    "#изначальное значение shared_vector_1\n",
    "print (\"initial shared value:\" ,shared_vector_1.get_value())\n",
    "\n",
    "# теперь вычислим функцию (значение shared_vector_1 при этом поменяется)\n",
    "print (\"compute_and_save(2) returns\",compute_and_save(2))\n",
    "\n",
    "#проверим, что в shared_vector_1\n",
    "print (\"new shared value:\" ,shared_vector_1.get_value())\n",
    "\n"
   ]
  },
  {
   "cell_type": "markdown",
   "metadata": {},
   "source": [
    "# Логистическая регрессия\n",
    "Что нам потребуется:\n",
    "* Веса лучше хранить в shared-переменной\n",
    "* Данные можно передавать как input\n",
    "* Нужно 2 функции:\n",
    " * train_function(X,y) - возвращает ошибку и изменяет веса на 1 шаг по граиденту __(через updates)__\n",
    " * predict_fun(X) - возвращает предсказанные ответы (\"y\") по данным"
   ]
  },
  {
   "cell_type": "code",
   "execution_count": 30,
   "metadata": {
    "collapsed": false
   },
   "outputs": [
    {
     "name": "stdout",
     "output_type": "stream",
     "text": [
      "('y [\\xd1\\x84\\xd0\\xbe\\xd1\\x80\\xd0\\xbc\\xd0\\xb0 - (360,)]:', array([0, 1, 0, 1, 0, 1, 0, 0, 1, 1]))\n",
      "X [форма - (360, 64)]:\n",
      "[[  0.   0.   5.  13.   9.   1.   0.   0.   0.   0.  13.  15.  10.  15.\n",
      "    5.   0.   0.   3.  15.   2.   0.  11.   8.   0.   0.   4.  12.   0.\n",
      "    0.   8.   8.   0.   0.   5.   8.   0.   0.   9.   8.   0.   0.   4.\n",
      "   11.   0.   1.  12.   7.   0.   0.   2.  14.   5.  10.  12.   0.   0.\n",
      "    0.   0.   6.  13.  10.   0.   0.   0.]\n",
      " [  0.   0.   0.  12.  13.   5.   0.   0.   0.   0.   0.  11.  16.   9.\n",
      "    0.   0.   0.   0.   3.  15.  16.   6.   0.   0.   0.   7.  15.  16.\n",
      "   16.   2.   0.   0.   0.   0.   1.  16.  16.   3.   0.   0.   0.   0.\n",
      "    1.  16.  16.   6.   0.   0.   0.   0.   1.  16.  16.   6.   0.   0.\n",
      "    0.   0.   0.  11.  16.  10.   0.   0.]\n",
      " [  0.   0.   1.   9.  15.  11.   0.   0.   0.   0.  11.  16.   8.  14.\n",
      "    6.   0.   0.   2.  16.  10.   0.   9.   9.   0.   0.   1.  16.   4.\n",
      "    0.   8.   8.   0.   0.   4.  16.   4.   0.   8.   8.   0.   0.   1.\n",
      "   16.   5.   1.  11.   3.   0.   0.   0.  12.  12.  10.  10.   0.   0.\n",
      "    0.   0.   1.  10.  13.   3.   0.   0.]]\n"
     ]
    }
   ],
   "source": [
    "from sklearn.datasets import load_digits\n",
    "mnist = load_digits(2)\n",
    "\n",
    "X,y = mnist.data, mnist.target\n",
    "\n",
    "\n",
    "print (\"y [форма - %s]:\"%(str(y.shape)),y[:10])\n",
    "\n",
    "print (\"X [форма - %s]:\"%(str(X.shape)))\n",
    "print (X[:3])"
   ]
  },
  {
   "cell_type": "code",
   "execution_count": 31,
   "metadata": {
    "collapsed": false
   },
   "outputs": [],
   "source": [
    "# переменные и входыi\n",
    "shared_weights = theano.shared(np.zeros(X.shape[1], dtype='float64'))\n",
    "\n",
    "input_X = T.matrix(\"x\", dtype='float64')\n",
    "input_y = T.vector(\"y\", dtype='float64')"
   ]
  },
  {
   "cell_type": "code",
   "execution_count": 32,
   "metadata": {
    "collapsed": false
   },
   "outputs": [],
   "source": [
    "predicted_y = T.dot(input_X, shared_weights)\n",
    "loss = T.mean(T.log(1 + T.exp(-input_y * T.dot(input_X, shared_weights))))\n",
    "\n",
    "grad = T.grad(loss, shared_weights)\n",
    "\n",
    "updates = {\n",
    "    shared_weights: shared_weights - grad\n",
    "}"
   ]
  },
  {
   "cell_type": "code",
   "execution_count": 33,
   "metadata": {
    "collapsed": false
   },
   "outputs": [],
   "source": [
    "train_function = theano.function([input_X, input_y], loss, updates=updates, allow_input_downcast=True)\n",
    "predict_function = theano.function([input_X], predicted_y, allow_input_downcast=True)"
   ]
  },
  {
   "cell_type": "code",
   "execution_count": 34,
   "metadata": {
    "collapsed": false
   },
   "outputs": [
    {
     "name": "stderr",
     "output_type": "stream",
     "text": [
      "/home/ivan/.virtualenvs/math/local/lib/python2.7/site-packages/sklearn/cross_validation.py:44: DeprecationWarning: This module was deprecated in version 0.18 in favor of the model_selection module into which all the refactored classes and functions are moved. Also note that the interface of the new CV iterators are different from that of this module. This module will be removed in 0.20.\n",
      "  \"This module will be removed in 0.20.\", DeprecationWarning)\n"
     ]
    }
   ],
   "source": [
    "from sklearn.cross_validation import train_test_split\n",
    "X_train,X_test,y_train,y_test = train_test_split(X,y)"
   ]
  },
  {
   "cell_type": "code",
   "execution_count": 35,
   "metadata": {
    "collapsed": false
   },
   "outputs": [
    {
     "name": "stdout",
     "output_type": "stream",
     "text": [
      "loss at iter 0:0.6931\n",
      "('train auc:', 0.92887327808572528)\n",
      "('test auc:', 0.94024691358024692)\n",
      "loss at iter 1:0.3414\n",
      "('train auc:', 0.92887327808572528)\n",
      "('test auc:', 0.94024691358024692)\n",
      "loss at iter 2:0.3414\n",
      "('train auc:', 0.92887327808572528)\n",
      "('test auc:', 0.94024691358024692)\n",
      "loss at iter 3:0.3414\n",
      "('train auc:', 0.92887327808572528)\n",
      "('test auc:', 0.94024691358024692)\n",
      "loss at iter 4:0.3414\n",
      "('train auc:', 0.92887327808572528)\n",
      "('test auc:', 0.94024691358024692)\n",
      "resulting weights:\n"
     ]
    },
    {
     "data": {
      "text/plain": [
       "<matplotlib.colorbar.Colorbar at 0x7f937e40af10>"
      ]
     },
     "execution_count": 35,
     "metadata": {},
     "output_type": "execute_result"
    },
    {
     "data": {
      "image/png": "[encoded data removed]",
      "text/plain": [
       "<matplotlib.figure.Figure at 0x7f93887d70d0>"
      ]
     },
     "metadata": {},
     "output_type": "display_data"
    }
   ],
   "source": [
    "from sklearn.metrics import roc_auc_score, precision_score\n",
    "\n",
    "for i in range(5):\n",
    "    loss_i = train_function(X_train,y_train)\n",
    "    \n",
    "    print (\"loss at iter %i:%.4f\"%(i,loss_i))\n",
    "    print (\"train auc:\",roc_auc_score(y_train,predict_function(X_train)))\n",
    "    print (\"test auc:\",roc_auc_score(y_test,predict_function(X_test)))\n",
    "    \n",
    "print (\"resulting weights:\")\n",
    "plt.imshow(shared_weights.get_value().reshape(8,-1))\n",
    "plt.colorbar()"
   ]
  },
  {
   "cell_type": "markdown",
   "metadata": {},
   "source": [
    "# lasagne\n",
    "* lasagne - это библиотека для написания нейронок произвольной формы на theano\n",
    "* библиотека низкоуровневая, границы между theano и lasagne практически нет\n",
    "\n",
    "В качестве демо-задачи выберем то же распознавание чисел, но на большем масштабе задачи\n",
    "* картинки 28x28\n",
    "* 10 цифр"
   ]
  },
  {
   "cell_type": "code",
   "execution_count": 36,
   "metadata": {
    "collapsed": false
   },
   "outputs": [
    {
     "name": "stdout",
     "output_type": "stream",
     "text": [
      "((50000, 1, 28, 28), (50000,))\n"
     ]
    }
   ],
   "source": [
    "from mnist import load_dataset\n",
    "X_train,y_train,X_val,y_val,X_test,y_test = load_dataset()\n",
    "\n",
    "print (X_train.shape,y_train.shape)"
   ]
  },
  {
   "cell_type": "code",
   "execution_count": 37,
   "metadata": {
    "collapsed": false
   },
   "outputs": [
    {
     "data": {
      "text/plain": [
       "<matplotlib.image.AxesImage at 0x7f937cb224d0>"
      ]
     },
     "execution_count": 37,
     "metadata": {},
     "output_type": "execute_result"
    },
    {
     "data": {
      "image/png": "[encoded data removed]",
      "text/plain": [
       "<matplotlib.figure.Figure at 0x7f937e390a50>"
      ]
     },
     "metadata": {},
     "output_type": "display_data"
    }
   ],
   "source": [
    "plt.imshow(X_train[0,0])"
   ]
  },
  {
   "cell_type": "code",
   "execution_count": 38,
   "metadata": {
    "collapsed": false
   },
   "outputs": [],
   "source": [
    "import lasagne\n",
    "\n",
    "input_X = T.tensor4(\"X\")\n",
    "\n",
    "#размерность входа (None означает \"может изменяться\")\n",
    "input_shape = [None,1,28,28]\n",
    "\n",
    "target_y = T.vector(\"target Y integer\",dtype='int32')"
   ]
  },
  {
   "cell_type": "markdown",
   "metadata": {},
   "source": [
    "Так задаётся архитектура нейронки"
   ]
  },
  {
   "cell_type": "code",
   "execution_count": 39,
   "metadata": {
    "collapsed": false
   },
   "outputs": [],
   "source": [
    "#входной слой (вспомогательный)\n",
    "input_layer = lasagne.layers.InputLayer(shape = input_shape,input_var=input_X)\n",
    "\n",
    "#полносвязный слой, который принимает на вход input layer и имеет 100 нейронов.\n",
    "# нелинейная функция - сигмоида как в логистической регрессии\n",
    "# слоям тоже можно давать имена, но это необязательно\n",
    "dense_1 = lasagne.layers.DenseLayer(input_layer,num_units=50,\n",
    "                                   nonlinearity = lasagne.nonlinearities.sigmoid,\n",
    "                                   name = \"hidden_dense_layer\")\n",
    "\n",
    "#ВЫХОДНОЙ полносвязный слой, который принимает на вход dense_1 и имеет 10 нейронов -по нейрону на цифру\n",
    "#нелинейность - softmax - чтобы вероятности всех цифр давали в сумме 1\n",
    "dense_output = lasagne.layers.DenseLayer(dense_1,num_units = 10,\n",
    "                                        nonlinearity = lasagne.nonlinearities.softmax,\n",
    "                                        name='output')\n"
   ]
  },
  {
   "cell_type": "code",
   "execution_count": 40,
   "metadata": {
    "collapsed": true
   },
   "outputs": [],
   "source": [
    "#предсказание нейронки (theano-преобразование)\n",
    "y_predicted = lasagne.layers.get_output(dense_output)"
   ]
  },
  {
   "cell_type": "code",
   "execution_count": 41,
   "metadata": {
    "collapsed": false
   },
   "outputs": [
    {
     "name": "stdout",
     "output_type": "stream",
     "text": [
      "[hidden_dense_layer.W, hidden_dense_layer.b, output.W, output.b]\n"
     ]
    }
   ],
   "source": [
    "#все веса нейронки (shared-переменные)\n",
    "all_weights = lasagne.layers.get_all_params(dense_output)\n",
    "print (all_weights)"
   ]
  },
  {
   "cell_type": "markdown",
   "metadata": {},
   "source": [
    "### дальше вы могли бы просто\n",
    "* задать функцию ошибки вручную\n",
    "* посчитать градиент ошибки по all_weights\n",
    "* написать updates\n",
    "* но это долго, а простой шаг по градиенту - не самый лучший смособ оптимизировать веса\n",
    "\n",
    "Вместо этого, опять используем lasagne"
   ]
  },
  {
   "cell_type": "code",
   "execution_count": 42,
   "metadata": {
    "collapsed": false
   },
   "outputs": [],
   "source": [
    "#функция ошибки - средняя кроссэнтропия\n",
    "loss = lasagne.objectives.categorical_crossentropy(y_predicted,target_y).mean()\n",
    "accuracy = lasagne.objectives.categorical_accuracy(y_predicted,target_y).mean()\n",
    "\n",
    "#сразу посчитать словарь обновлённых значений с шагом по градиенту, как раньше\n",
    "updates_sgd = lasagne.updates.rmsprop(loss, all_weights,learning_rate=0.01)"
   ]
  },
  {
   "cell_type": "code",
   "execution_count": 43,
   "metadata": {
    "collapsed": false
   },
   "outputs": [],
   "source": [
    "#функция, которая обучает сеть на 1 шаг и возвращащет значение функции потерь и точности\n",
    "train_fun = theano.function([input_X,target_y],[loss,accuracy],updates= updates_sgd)\n",
    "\n",
    "#функция, которая считает точность\n",
    "accuracy_fun = theano.function([input_X,target_y],accuracy)"
   ]
  },
  {
   "cell_type": "markdown",
   "metadata": {},
   "source": [
    "### Вот и всё, пошли её учить\n",
    "* данных теперь много, поэтому лучше учиться стохастическим градиентным спуском\n",
    "* для этого напишем функцию, которая бьёт выпорку на мини-батчи (в обычном питоне, не в theano)"
   ]
  },
  {
   "cell_type": "code",
   "execution_count": 44,
   "metadata": {
    "collapsed": false
   },
   "outputs": [],
   "source": [
    "# вспомогательная функция, которая возвращает список мини-батчей для обучения нейронки\n",
    "\n",
    "#на вход\n",
    "# X - тензор из картинок размером (много, 1, 28, 28), например - X_train\n",
    "# y - вектор из чиселок - ответов для каждой картинки из X; например - Y_train\n",
    "#batch_size - одно число - желаемый размер группы\n",
    "\n",
    "#что нужно сделать\n",
    "# 1) перемешать данные\n",
    "# - важно перемешать X и y одним и тем же образом, чтобы сохранить соответствие картинки ответу на неё\n",
    "# 3) побить данные на подгруппы так, чтобы в каждой подгруппе было batch_size картинок и ответов\n",
    "# - если число картинок не делится на batch_size, одну подгруппу можно вернуть другого размера\n",
    "# 4) вернуть список (или итератор) пар:\n",
    "# - (подгруппа картинок, ответы из y на эту подгруппу)\n",
    "\n",
    "def iterate_minibatches(inputs, targets, batchsize):\n",
    "    indices = np.arange(len(inputs))\n",
    "    np.random.shuffle(indices)\n",
    "    \n",
    "    for start_idx in range(0, len(inputs) - batchsize + 1, batchsize):\n",
    "        excerpt = indices[start_idx:start_idx + batchsize]\n",
    "        yield inputs[excerpt], targets[excerpt]\n",
    "\n",
    "#\n",
    "#\n",
    "#\n",
    "#\n",
    "#\n",
    "#\n",
    "#\n",
    "# Всё плохо и ты не понимаешь, что от тебя хотят?\n",
    "# можешь поискать похожую функцию в примере\n",
    "# https://github.com/Lasagne/Lasagne/blob/master/examples/mnist.py"
   ]
  },
  {
   "cell_type": "markdown",
   "metadata": {},
   "source": [
    "# Процесс обучения"
   ]
  },
  {
   "cell_type": "code",
   "execution_count": 45,
   "metadata": {
    "collapsed": false,
    "scrolled": true
   },
   "outputs": [
    {
     "name": "stdout",
     "output_type": "stream",
     "text": [
      "Epoch 1 of 100 took 1.394s\n",
      "  training loss (in-iteration):\t\t0.286911\n",
      "  train accuracy:\t\t91.54 %\n",
      "  validation accuracy:\t\t95.33 %\n",
      "Epoch 2 of 100 took 1.402s\n",
      "  training loss (in-iteration):\t\t0.144562\n",
      "  train accuracy:\t\t95.64 %\n",
      "  validation accuracy:\t\t96.08 %\n",
      "Epoch 3 of 100 took 1.423s\n",
      "  training loss (in-iteration):\t\t0.113106\n",
      "  train accuracy:\t\t96.57 %\n",
      "  validation accuracy:\t\t96.42 %\n",
      "Epoch 4 of 100 took 1.365s\n",
      "  training loss (in-iteration):\t\t0.094565\n",
      "  train accuracy:\t\t97.16 %\n",
      "  validation accuracy:\t\t96.36 %\n",
      "Epoch 5 of 100 took 1.498s\n",
      "  training loss (in-iteration):\t\t0.082506\n",
      "  train accuracy:\t\t97.47 %\n",
      "  validation accuracy:\t\t96.41 %\n",
      "Epoch 6 of 100 took 1.495s\n",
      "  training loss (in-iteration):\t\t0.071518\n",
      "  train accuracy:\t\t97.82 %\n",
      "  validation accuracy:\t\t96.75 %\n",
      "Epoch 7 of 100 took 1.366s\n",
      "  training loss (in-iteration):\t\t0.064846\n",
      "  train accuracy:\t\t97.94 %\n",
      "  validation accuracy:\t\t96.76 %\n",
      "Epoch 8 of 100 took 1.560s\n",
      "  training loss (in-iteration):\t\t0.057577\n",
      "  train accuracy:\t\t98.22 %\n",
      "  validation accuracy:\t\t96.87 %\n",
      "Epoch 9 of 100 took 1.550s\n",
      "  training loss (in-iteration):\t\t0.052190\n",
      "  train accuracy:\t\t98.39 %\n",
      "  validation accuracy:\t\t96.87 %\n",
      "Epoch 10 of 100 took 1.633s\n",
      "  training loss (in-iteration):\t\t0.046561\n",
      "  train accuracy:\t\t98.51 %\n",
      "  validation accuracy:\t\t96.50 %\n",
      "Epoch 11 of 100 took 1.452s\n",
      "  training loss (in-iteration):\t\t0.042591\n",
      "  train accuracy:\t\t98.64 %\n",
      "  validation accuracy:\t\t96.96 %\n",
      "Epoch 12 of 100 took 1.512s\n",
      "  training loss (in-iteration):\t\t0.039339\n",
      "  train accuracy:\t\t98.75 %\n",
      "  validation accuracy:\t\t96.99 %\n",
      "Epoch 13 of 100 took 1.429s\n",
      "  training loss (in-iteration):\t\t0.035018\n",
      "  train accuracy:\t\t98.91 %\n",
      "  validation accuracy:\t\t97.02 %\n",
      "Epoch 14 of 100 took 1.377s\n",
      "  training loss (in-iteration):\t\t0.031110\n",
      "  train accuracy:\t\t98.98 %\n",
      "  validation accuracy:\t\t97.13 %\n",
      "Epoch 15 of 100 took 1.432s\n",
      "  training loss (in-iteration):\t\t0.029751\n",
      "  train accuracy:\t\t99.05 %\n",
      "  validation accuracy:\t\t96.86 %\n",
      "Epoch 16 of 100 took 1.533s\n",
      "  training loss (in-iteration):\t\t0.027703\n",
      "  train accuracy:\t\t99.09 %\n",
      "  validation accuracy:\t\t97.25 %\n",
      "Epoch 17 of 100 took 1.443s\n",
      "  training loss (in-iteration):\t\t0.023956\n",
      "  train accuracy:\t\t99.28 %\n",
      "  validation accuracy:\t\t96.87 %\n",
      "Epoch 18 of 100 took 1.473s\n",
      "  training loss (in-iteration):\t\t0.022136\n",
      "  train accuracy:\t\t99.28 %\n",
      "  validation accuracy:\t\t96.82 %\n",
      "Epoch 19 of 100 took 1.519s\n",
      "  training loss (in-iteration):\t\t0.018585\n",
      "  train accuracy:\t\t99.41 %\n",
      "  validation accuracy:\t\t96.98 %\n",
      "Epoch 20 of 100 took 1.401s\n",
      "  training loss (in-iteration):\t\t0.016954\n",
      "  train accuracy:\t\t99.46 %\n",
      "  validation accuracy:\t\t96.88 %\n",
      "Epoch 21 of 100 took 1.529s\n",
      "  training loss (in-iteration):\t\t0.015336\n",
      "  train accuracy:\t\t99.53 %\n",
      "  validation accuracy:\t\t96.90 %\n",
      "Epoch 22 of 100 took 1.444s\n",
      "  training loss (in-iteration):\t\t0.013830\n",
      "  train accuracy:\t\t99.55 %\n",
      "  validation accuracy:\t\t97.06 %\n",
      "Epoch 23 of 100 took 1.722s\n",
      "  training loss (in-iteration):\t\t0.011860\n",
      "  train accuracy:\t\t99.66 %\n",
      "  validation accuracy:\t\t96.95 %\n",
      "Epoch 24 of 100 took 1.640s\n",
      "  training loss (in-iteration):\t\t0.010418\n",
      "  train accuracy:\t\t99.68 %\n",
      "  validation accuracy:\t\t97.07 %\n",
      "Epoch 25 of 100 took 1.420s\n",
      "  training loss (in-iteration):\t\t0.008820\n",
      "  train accuracy:\t\t99.76 %\n",
      "  validation accuracy:\t\t96.94 %\n",
      "Epoch 26 of 100 took 1.492s\n",
      "  training loss (in-iteration):\t\t0.008839\n",
      "  train accuracy:\t\t99.75 %\n",
      "  validation accuracy:\t\t97.05 %\n",
      "Epoch 27 of 100 took 1.371s\n",
      "  training loss (in-iteration):\t\t0.006674\n",
      "  train accuracy:\t\t99.84 %\n",
      "  validation accuracy:\t\t96.83 %\n",
      "Epoch 28 of 100 took 1.394s\n",
      "  training loss (in-iteration):\t\t0.006542\n",
      "  train accuracy:\t\t99.83 %\n",
      "  validation accuracy:\t\t97.11 %\n",
      "Epoch 29 of 100 took 1.439s\n",
      "  training loss (in-iteration):\t\t0.006006\n",
      "  train accuracy:\t\t99.85 %\n",
      "  validation accuracy:\t\t97.16 %\n",
      "Epoch 30 of 100 took 1.330s\n",
      "  training loss (in-iteration):\t\t0.004547\n",
      "  train accuracy:\t\t99.90 %\n",
      "  validation accuracy:\t\t96.91 %\n",
      "Epoch 31 of 100 took 1.398s\n",
      "  training loss (in-iteration):\t\t0.003537\n",
      "  train accuracy:\t\t99.94 %\n",
      "  validation accuracy:\t\t97.04 %\n",
      "Epoch 32 of 100 took 1.412s\n",
      "  training loss (in-iteration):\t\t0.003154\n",
      "  train accuracy:\t\t99.93 %\n",
      "  validation accuracy:\t\t97.00 %\n",
      "Epoch 33 of 100 took 1.577s\n",
      "  training loss (in-iteration):\t\t0.001987\n",
      "  train accuracy:\t\t99.97 %\n",
      "  validation accuracy:\t\t96.95 %\n",
      "Epoch 34 of 100 took 1.384s\n",
      "  training loss (in-iteration):\t\t0.001647\n",
      "  train accuracy:\t\t99.97 %\n",
      "  validation accuracy:\t\t97.10 %\n",
      "Epoch 35 of 100 took 1.353s\n",
      "  training loss (in-iteration):\t\t0.001334\n",
      "  train accuracy:\t\t99.98 %\n",
      "  validation accuracy:\t\t97.03 %\n",
      "Epoch 36 of 100 took 1.468s\n",
      "  training loss (in-iteration):\t\t0.000994\n",
      "  train accuracy:\t\t99.99 %\n",
      "  validation accuracy:\t\t97.09 %\n",
      "Epoch 37 of 100 took 1.463s\n",
      "  training loss (in-iteration):\t\t0.000858\n",
      "  train accuracy:\t\t99.99 %\n",
      "  validation accuracy:\t\t97.13 %\n",
      "Epoch 38 of 100 took 1.621s\n",
      "  training loss (in-iteration):\t\t0.000784\n",
      "  train accuracy:\t\t99.99 %\n",
      "  validation accuracy:\t\t97.11 %\n",
      "Epoch 39 of 100 took 1.596s\n",
      "  training loss (in-iteration):\t\t0.000753\n",
      "  train accuracy:\t\t99.99 %\n",
      "  validation accuracy:\t\t97.10 %\n",
      "Epoch 40 of 100 took 1.467s\n",
      "  training loss (in-iteration):\t\t0.000672\n",
      "  train accuracy:\t\t99.99 %\n",
      "  validation accuracy:\t\t97.13 %\n",
      "Epoch 41 of 100 took 1.646s\n",
      "  training loss (in-iteration):\t\t0.000611\n",
      "  train accuracy:\t\t99.99 %\n",
      "  validation accuracy:\t\t97.14 %\n",
      "Epoch 42 of 100 took 1.761s\n",
      "  training loss (in-iteration):\t\t0.000584\n",
      "  train accuracy:\t\t99.99 %\n",
      "  validation accuracy:\t\t97.10 %\n",
      "Epoch 43 of 100 took 1.744s\n",
      "  training loss (in-iteration):\t\t0.000523\n",
      "  train accuracy:\t\t99.99 %\n",
      "  validation accuracy:\t\t97.14 %\n",
      "Epoch 44 of 100 took 1.691s\n",
      "  training loss (in-iteration):\t\t0.000469\n",
      "  train accuracy:\t\t99.99 %\n",
      "  validation accuracy:\t\t97.19 %\n",
      "Epoch 45 of 100 took 1.622s\n",
      "  training loss (in-iteration):\t\t0.000458\n",
      "  train accuracy:\t\t99.99 %\n",
      "  validation accuracy:\t\t97.15 %\n",
      "Epoch 46 of 100 took 1.454s\n",
      "  training loss (in-iteration):\t\t0.000431\n",
      "  train accuracy:\t\t100.00 %\n",
      "  validation accuracy:\t\t97.15 %\n",
      "Epoch 47 of 100 took 1.567s\n",
      "  training loss (in-iteration):\t\t0.000395\n",
      "  train accuracy:\t\t100.00 %\n",
      "  validation accuracy:\t\t97.07 %\n",
      "Epoch 48 of 100 took 1.676s\n",
      "  training loss (in-iteration):\t\t0.000370\n",
      "  train accuracy:\t\t100.00 %\n",
      "  validation accuracy:\t\t97.13 %\n",
      "Epoch 49 of 100 took 1.647s\n",
      "  training loss (in-iteration):\t\t0.000345\n",
      "  train accuracy:\t\t100.00 %\n",
      "  validation accuracy:\t\t97.15 %\n",
      "Epoch 50 of 100 took 1.646s\n",
      "  training loss (in-iteration):\t\t0.000338\n",
      "  train accuracy:\t\t100.00 %\n",
      "  validation accuracy:\t\t97.19 %\n",
      "Epoch 51 of 100 took 2.110s\n",
      "  training loss (in-iteration):\t\t0.000319\n",
      "  train accuracy:\t\t100.00 %\n",
      "  validation accuracy:\t\t97.18 %\n",
      "Epoch 52 of 100 took 1.605s\n",
      "  training loss (in-iteration):\t\t0.000300\n",
      "  train accuracy:\t\t100.00 %\n",
      "  validation accuracy:\t\t97.07 %\n",
      "Epoch 53 of 100 took 1.804s\n",
      "  training loss (in-iteration):\t\t0.000293\n",
      "  train accuracy:\t\t100.00 %\n",
      "  validation accuracy:\t\t97.19 %\n",
      "Epoch 54 of 100 took 1.593s\n",
      "  training loss (in-iteration):\t\t0.000272\n",
      "  train accuracy:\t\t100.00 %\n",
      "  validation accuracy:\t\t97.15 %\n",
      "Epoch 55 of 100 took 1.673s\n",
      "  training loss (in-iteration):\t\t0.000263\n",
      "  train accuracy:\t\t100.00 %\n",
      "  validation accuracy:\t\t97.18 %\n",
      "Epoch 56 of 100 took 1.718s\n",
      "  training loss (in-iteration):\t\t0.000253\n",
      "  train accuracy:\t\t100.00 %\n",
      "  validation accuracy:\t\t97.19 %\n",
      "Epoch 57 of 100 took 1.694s\n",
      "  training loss (in-iteration):\t\t0.000242\n",
      "  train accuracy:\t\t100.00 %\n",
      "  validation accuracy:\t\t97.17 %\n",
      "Epoch 58 of 100 took 1.860s\n",
      "  training loss (in-iteration):\t\t0.000232\n",
      "  train accuracy:\t\t100.00 %\n",
      "  validation accuracy:\t\t97.14 %\n",
      "Epoch 59 of 100 took 1.535s\n",
      "  training loss (in-iteration):\t\t0.000226\n",
      "  train accuracy:\t\t100.00 %\n",
      "  validation accuracy:\t\t97.13 %\n",
      "Epoch 60 of 100 took 1.452s\n",
      "  training loss (in-iteration):\t\t0.000216\n",
      "  train accuracy:\t\t100.00 %\n",
      "  validation accuracy:\t\t97.18 %\n",
      "Epoch 61 of 100 took 1.351s\n",
      "  training loss (in-iteration):\t\t0.000208\n",
      "  train accuracy:\t\t100.00 %\n",
      "  validation accuracy:\t\t97.17 %\n",
      "Epoch 62 of 100 took 1.360s\n",
      "  training loss (in-iteration):\t\t0.000206\n",
      "  train accuracy:\t\t100.00 %\n",
      "  validation accuracy:\t\t97.13 %\n",
      "Epoch 63 of 100 took 1.372s\n",
      "  training loss (in-iteration):\t\t0.000194\n",
      "  train accuracy:\t\t100.00 %\n",
      "  validation accuracy:\t\t97.15 %\n",
      "Epoch 64 of 100 took 1.343s\n",
      "  training loss (in-iteration):\t\t0.000189\n",
      "  train accuracy:\t\t100.00 %\n",
      "  validation accuracy:\t\t97.17 %\n",
      "Epoch 65 of 100 took 1.323s\n",
      "  training loss (in-iteration):\t\t0.000178\n",
      "  train accuracy:\t\t100.00 %\n",
      "  validation accuracy:\t\t97.14 %\n",
      "Epoch 66 of 100 took 1.319s\n",
      "  training loss (in-iteration):\t\t0.000167\n",
      "  train accuracy:\t\t100.00 %\n",
      "  validation accuracy:\t\t97.17 %\n",
      "Epoch 67 of 100 took 1.439s\n",
      "  training loss (in-iteration):\t\t0.000165\n",
      "  train accuracy:\t\t100.00 %\n",
      "  validation accuracy:\t\t97.15 %\n",
      "Epoch 68 of 100 took 1.474s\n",
      "  training loss (in-iteration):\t\t0.000158\n",
      "  train accuracy:\t\t100.00 %\n",
      "  validation accuracy:\t\t97.17 %\n",
      "Epoch 69 of 100 took 1.461s\n",
      "  training loss (in-iteration):\t\t0.000153\n",
      "  train accuracy:\t\t100.00 %\n",
      "  validation accuracy:\t\t97.13 %\n",
      "Epoch 70 of 100 took 1.599s\n",
      "  training loss (in-iteration):\t\t0.000150\n",
      "  train accuracy:\t\t100.00 %\n",
      "  validation accuracy:\t\t97.14 %\n",
      "Epoch 71 of 100 took 1.579s\n",
      "  training loss (in-iteration):\t\t0.000146\n",
      "  train accuracy:\t\t100.00 %\n",
      "  validation accuracy:\t\t97.15 %\n",
      "Epoch 72 of 100 took 1.602s\n",
      "  training loss (in-iteration):\t\t0.000143\n",
      "  train accuracy:\t\t100.00 %\n",
      "  validation accuracy:\t\t97.15 %\n",
      "Epoch 73 of 100 took 1.608s\n",
      "  training loss (in-iteration):\t\t0.000140\n",
      "  train accuracy:\t\t100.00 %\n",
      "  validation accuracy:\t\t97.16 %\n",
      "Epoch 74 of 100 took 1.406s\n",
      "  training loss (in-iteration):\t\t0.000137\n",
      "  train accuracy:\t\t100.00 %\n",
      "  validation accuracy:\t\t97.16 %\n",
      "Epoch 75 of 100 took 1.331s\n",
      "  training loss (in-iteration):\t\t0.000134\n",
      "  train accuracy:\t\t100.00 %\n",
      "  validation accuracy:\t\t97.14 %\n",
      "Epoch 76 of 100 took 1.498s\n",
      "  training loss (in-iteration):\t\t0.000131\n",
      "  train accuracy:\t\t100.00 %\n",
      "  validation accuracy:\t\t97.17 %\n",
      "Epoch 77 of 100 took 1.635s\n",
      "  training loss (in-iteration):\t\t0.000128\n",
      "  train accuracy:\t\t100.00 %\n",
      "  validation accuracy:\t\t97.14 %\n",
      "Epoch 78 of 100 took 1.671s\n",
      "  training loss (in-iteration):\t\t0.000126\n",
      "  train accuracy:\t\t100.00 %\n",
      "  validation accuracy:\t\t97.14 %\n",
      "Epoch 79 of 100 took 1.371s\n",
      "  training loss (in-iteration):\t\t0.000124\n",
      "  train accuracy:\t\t100.00 %\n",
      "  validation accuracy:\t\t97.16 %\n",
      "Epoch 80 of 100 took 1.356s\n",
      "  training loss (in-iteration):\t\t0.000122\n",
      "  train accuracy:\t\t100.00 %\n",
      "  validation accuracy:\t\t97.11 %\n",
      "Epoch 81 of 100 took 1.494s\n",
      "  training loss (in-iteration):\t\t0.000119\n",
      "  train accuracy:\t\t100.00 %\n",
      "  validation accuracy:\t\t97.12 %\n",
      "Epoch 82 of 100 took 1.664s\n",
      "  training loss (in-iteration):\t\t0.000117\n",
      "  train accuracy:\t\t100.00 %\n",
      "  validation accuracy:\t\t97.16 %\n",
      "Epoch 83 of 100 took 1.618s\n",
      "  training loss (in-iteration):\t\t0.000115\n",
      "  train accuracy:\t\t100.00 %\n",
      "  validation accuracy:\t\t97.16 %\n",
      "Epoch 84 of 100 took 1.396s\n",
      "  training loss (in-iteration):\t\t0.000113\n",
      "  train accuracy:\t\t100.00 %\n",
      "  validation accuracy:\t\t97.14 %\n",
      "Epoch 85 of 100 took 1.589s\n",
      "  training loss (in-iteration):\t\t0.000111\n",
      "  train accuracy:\t\t100.00 %\n",
      "  validation accuracy:\t\t97.09 %\n",
      "Epoch 86 of 100 took 1.539s\n",
      "  training loss (in-iteration):\t\t0.000109\n",
      "  train accuracy:\t\t100.00 %\n",
      "  validation accuracy:\t\t97.13 %\n",
      "Epoch 87 of 100 took 1.467s\n",
      "  training loss (in-iteration):\t\t0.000108\n",
      "  train accuracy:\t\t100.00 %\n",
      "  validation accuracy:\t\t97.14 %\n",
      "Epoch 88 of 100 took 1.665s\n",
      "  training loss (in-iteration):\t\t0.000106\n",
      "  train accuracy:\t\t100.00 %\n",
      "  validation accuracy:\t\t97.13 %\n",
      "Epoch 89 of 100 took 1.822s\n",
      "  training loss (in-iteration):\t\t0.000104\n",
      "  train accuracy:\t\t100.00 %\n",
      "  validation accuracy:\t\t97.13 %\n",
      "Epoch 90 of 100 took 1.501s\n",
      "  training loss (in-iteration):\t\t0.000103\n",
      "  train accuracy:\t\t100.00 %\n",
      "  validation accuracy:\t\t97.14 %\n",
      "Epoch 91 of 100 took 1.430s\n",
      "  training loss (in-iteration):\t\t0.000101\n",
      "  train accuracy:\t\t100.00 %\n",
      "  validation accuracy:\t\t97.14 %\n",
      "Epoch 92 of 100 took 1.428s\n",
      "  training loss (in-iteration):\t\t0.000100\n",
      "  train accuracy:\t\t100.00 %\n",
      "  validation accuracy:\t\t97.13 %\n",
      "Epoch 93 of 100 took 1.429s\n",
      "  training loss (in-iteration):\t\t0.000099\n",
      "  train accuracy:\t\t100.00 %\n",
      "  validation accuracy:\t\t97.12 %\n",
      "Epoch 94 of 100 took 1.634s\n",
      "  training loss (in-iteration):\t\t0.000097\n",
      "  train accuracy:\t\t100.00 %\n",
      "  validation accuracy:\t\t97.14 %\n",
      "Epoch 95 of 100 took 1.663s\n",
      "  training loss (in-iteration):\t\t0.000096\n",
      "  train accuracy:\t\t100.00 %\n",
      "  validation accuracy:\t\t97.11 %\n",
      "Epoch 96 of 100 took 1.755s\n",
      "  training loss (in-iteration):\t\t0.000094\n",
      "  train accuracy:\t\t100.00 %\n",
      "  validation accuracy:\t\t97.14 %\n",
      "Epoch 97 of 100 took 1.785s\n",
      "  training loss (in-iteration):\t\t0.000093\n",
      "  train accuracy:\t\t100.00 %\n",
      "  validation accuracy:\t\t97.12 %\n",
      "Epoch 98 of 100 took 1.610s\n",
      "  training loss (in-iteration):\t\t0.000092\n",
      "  train accuracy:\t\t100.00 %\n",
      "  validation accuracy:\t\t97.13 %\n",
      "Epoch 99 of 100 took 1.479s\n",
      "  training loss (in-iteration):\t\t0.000090\n",
      "  train accuracy:\t\t100.00 %\n",
      "  validation accuracy:\t\t97.12 %\n",
      "Epoch 100 of 100 took 1.367s\n",
      "  training loss (in-iteration):\t\t0.000089\n",
      "  train accuracy:\t\t100.00 %\n",
      "  validation accuracy:\t\t97.14 %\n"
     ]
    }
   ],
   "source": [
    "import time\n",
    "\n",
    "num_epochs = 100 #количество проходов по данным\n",
    "\n",
    "batch_size = 50 #размер мини-батча\n",
    "\n",
    "for epoch in range(num_epochs):\n",
    "    # In each epoch, we do a full pass over the training data:\n",
    "    train_err = 0\n",
    "    train_acc = 0\n",
    "    train_batches = 0\n",
    "    start_time = time.time()\n",
    "    for batch in iterate_minibatches(X_train, y_train,batch_size):\n",
    "        inputs, targets = batch\n",
    "        train_err_batch, train_acc_batch= train_fun(inputs, targets)\n",
    "        train_err += train_err_batch\n",
    "        train_acc += train_acc_batch\n",
    "        train_batches += 1\n",
    "\n",
    "    # And a full pass over the validation data:\n",
    "    val_acc = 0\n",
    "    val_batches = 0\n",
    "    for batch in iterate_minibatches(X_val, y_val, batch_size):\n",
    "        inputs, targets = batch\n",
    "        val_acc += accuracy_fun(inputs, targets)\n",
    "        val_batches += 1\n",
    "\n",
    "    \n",
    "    # Then we print the results for this epoch:\n",
    "    print(\"Epoch {} of {} took {:.3f}s\".format(\n",
    "        epoch + 1, num_epochs, time.time() - start_time))\n",
    "\n",
    "    print(\"  training loss (in-iteration):\\t\\t{:.6f}\".format(train_err / train_batches))\n",
    "    print(\"  train accuracy:\\t\\t{:.2f} %\".format(\n",
    "        train_acc / train_batches * 100))\n",
    "    print(\"  validation accuracy:\\t\\t{:.2f} %\".format(\n",
    "        val_acc / val_batches * 100))"
   ]
  },
  {
   "cell_type": "code",
   "execution_count": 46,
   "metadata": {
    "collapsed": false
   },
   "outputs": [
    {
     "name": "stdout",
     "output_type": "stream",
     "text": [
      "Final results:\n",
      "  test accuracy:\t\t96.85 %\n",
      "Нужно больше магии!\n"
     ]
    }
   ],
   "source": [
    "test_acc = 0\n",
    "test_batches = 0\n",
    "for batch in iterate_minibatches(X_test, y_test, 500):\n",
    "    inputs, targets = batch\n",
    "    acc = accuracy_fun(inputs, targets)\n",
    "    test_acc += acc\n",
    "    test_batches += 1\n",
    "print(\"Final results:\")\n",
    "print(\"  test accuracy:\\t\\t{:.2f} %\".format(\n",
    "    test_acc / test_batches * 100))\n",
    "\n",
    "if test_acc / test_batches * 100 > 99:\n",
    "    print (\"Achievement unlocked: колдун 80 уровня\")\n",
    "else:\n",
    "    print (\"Нужно больше магии!\")"
   ]
  },
  {
   "cell_type": "markdown",
   "metadata": {},
   "source": [
    "# Нейронка твоей мечты\n",
    "\n",
    "\n",
    "* Задача - сделать нейронку, которая получит точность 99% на валидации (validation accuracy)\n",
    " * __+1 балл__ за каждые 0.2% сверх 99%\n",
    " * Вариант \"is fine too\" - 97.5%. \n",
    " * Чем выше, тем лучше.\n",
    " \n",
    "__ В конце есть мини-отчётик, который имеет смысл прочитать вначале и заполнять по ходу работы. __\n",
    " \n",
    "\n",
    "## Что можно улучшить:\n",
    "\n",
    "\n",
    "\n",
    " * размер сети\n",
    "   * бОльше нейронов, \n",
    "   * бОльше слоёв, \n",
    "   * почти наверняка нужны свёртки\n",
    "   * Пх'нглуи мглв'нафх Ктулху Р'льех вгах'нагл фхтагн! \n",
    "   \n",
    "   \n",
    "   \n",
    " * регуляризация - чтобы не переобучалось\n",
    "   * приплюсовать к функции ошибки какую-нибудь сумму квадратов весов\n",
    "   * можно сделать вручную, а можно - http://lasagne.readthedocs.org/en/latest/modules/regularization.html\n",
    "   \n",
    "   \n",
    "   \n",
    " * Метод оптимизации - rmsprop, nesterov_momentum, adadelta, adagrad и т.п.\n",
    "   * сходятся быстрее и иногда - к лучшему оптимуму\n",
    "   * имеет смысл поиграть с размером батча, количеством эпох и скоростью обучения\n",
    "   \n",
    "   \n",
    "   \n",
    " * Dropout - для борьбы с переобучением\n",
    "   * `lasagne.layers.DropoutLayer(предыдущий_слой, p=вероятность_занулить)`\n",
    "   \n",
    "   \n",
    "   \n",
    " * Свёрточные слои \n",
    "   * `network = lasagne.layers.Conv2DLayer(предыдущий_слой,`\n",
    "    `                       num_filters = число нейронов,`\n",
    "    `                        filter_size = (ширина_квадрата, высота_квадрата),`\n",
    "    `                        nonlinearity = нелинейная_функция)`\n",
    "   * ВАРНУНГ! могут учиться долго на CPU\n",
    "     * Однако мы всё равно рекоммендуем обучить хотя бы маленькую свёртку\n",
    " \n",
    " * Любые другие слои и архитектуры\n",
    "   * http://lasagne.readthedocs.org/en/latest/modules/layers.html\n",
    "   * Pooling, Batch Normalization, etc\n",
    "   \n",
    "   \n",
    " * Наконец, можно поиграть с нелинейностями в скрытых слоях\n",
    "   * tanh, relu, leaky relu, etc\n",
    " \n",
    " \n",
    "   \n",
    "Для удобства, ниже есть заготовка решения, которое можно заполнять, а можно выкинуть и написать своё"
   ]
  },
  {
   "cell_type": "code",
   "execution_count": 55,
   "metadata": {
    "collapsed": false
   },
   "outputs": [
    {
     "name": "stdout",
     "output_type": "stream",
     "text": [
      "((50000, 1, 28, 28), (50000,))\n"
     ]
    }
   ],
   "source": [
    "from mnist import load_dataset\n",
    "X_train,y_train,X_val,y_val,X_test,y_test = load_dataset()\n",
    "\n",
    "print (X_train.shape,y_train.shape)"
   ]
  },
  {
   "cell_type": "code",
   "execution_count": 56,
   "metadata": {
    "collapsed": true
   },
   "outputs": [],
   "source": [
    "import lasagne\n",
    "\n",
    "input_X = T.tensor4(\"X\")\n",
    "\n",
    "#размерность входа (None означает \"может изменяться\")\n",
    "input_shape = [None,1,28,28]\n",
    "\n",
    "target_y = T.vector(\"target Y integer\",dtype='int32')"
   ]
  },
  {
   "cell_type": "code",
   "execution_count": 57,
   "metadata": {
    "collapsed": false
   },
   "outputs": [],
   "source": [
    "input_layer = lasagne.layers.InputLayer(shape = input_shape,input_var=input_X)\n",
    "\n",
    "conv_1 = lasagne.layers.Conv2DLayer(input_layer, num_filters=15, filter_size=5)\n",
    "\n",
    "dens_1 = lasagne.layers.DenseLayer(conv_1, num_units=150,\n",
    "                                   nonlinearity = lasagne.nonlinearities.leaky_rectify)\n",
    "\n",
    "do_1 = lasagne.layers.DropoutLayer(dens_1,  p=0.5)\n",
    "\n",
    "dense_output = lasagne.layers.DenseLayer(do_1, num_units=10,\n",
    "                                         nonlinearity = lasagne.nonlinearities.softmax)"
   ]
  },
  {
   "cell_type": "code",
   "execution_count": 58,
   "metadata": {
    "collapsed": true
   },
   "outputs": [],
   "source": [
    "#предсказание нейронки (theano-преобразование)\n",
    "y_predicted = lasagne.layers.get_output(dense_output)"
   ]
  },
  {
   "cell_type": "code",
   "execution_count": 59,
   "metadata": {
    "collapsed": false
   },
   "outputs": [
    {
     "name": "stdout",
     "output_type": "stream",
     "text": [
      "[W, b, W, b, W, b]\n"
     ]
    }
   ],
   "source": [
    "#все веса нейронки (shared-переменные)\n",
    "all_weights = lasagne.layers.get_all_params(dense_output)\n",
    "print (all_weights)"
   ]
  },
  {
   "cell_type": "code",
   "execution_count": 60,
   "metadata": {
    "collapsed": false
   },
   "outputs": [],
   "source": [
    "#функция ошибки - средняя кроссэнтропия\n",
    "loss = lasagne.objectives.categorical_crossentropy(y_predicted,target_y).mean()\n",
    "\n",
    "#<возможно добавить регуляризатор>\n",
    "\n",
    "accuracy = lasagne.objectives.categorical_accuracy(y_predicted,target_y).mean()\n",
    "\n",
    "#сразу посчитать словарь обновлённых значений с шагом по градиенту, как раньше\n",
    "updates_sgd = lasagne.updates.adadelta(loss, all_weights,learning_rate=0.05)"
   ]
  },
  {
   "cell_type": "code",
   "execution_count": 61,
   "metadata": {
    "collapsed": false
   },
   "outputs": [],
   "source": [
    "#функция, которая обучает сеть на 1 шаг и возвращащет значение функции потерь и точности\n",
    "train_fun = theano.function([input_X,target_y],[loss,accuracy],updates= updates_sgd)\n",
    "\n",
    "#функция, которая считает точность\n",
    "accuracy_fun = theano.function([input_X,target_y],accuracy)"
   ]
  },
  {
   "cell_type": "code",
   "execution_count": 62,
   "metadata": {
    "collapsed": false,
    "scrolled": true
   },
   "outputs": [
    {
     "name": "stdout",
     "output_type": "stream",
     "text": [
      "Epoch 1 of 200 took 3.089s\n",
      "  training loss (in-iteration):\t\t0.764301\n",
      "  train accuracy:\t\t78.38 %\n",
      "  validation accuracy:\t\t89.42 %\n",
      "Epoch 2 of 200 took 3.261s\n",
      "  training loss (in-iteration):\t\t0.351766\n",
      "  train accuracy:\t\t89.71 %\n",
      "  validation accuracy:\t\t91.59 %\n",
      "Epoch 3 of 200 took 3.467s\n",
      "  training loss (in-iteration):\t\t0.280893\n",
      "  train accuracy:\t\t91.80 %\n",
      "  validation accuracy:\t\t93.29 %\n",
      "Epoch 4 of 200 took 2.978s\n",
      "  training loss (in-iteration):\t\t0.241197\n",
      "  train accuracy:\t\t93.01 %\n",
      "  validation accuracy:\t\t93.66 %\n",
      "Epoch 5 of 200 took 3.108s\n",
      "  training loss (in-iteration):\t\t0.211252\n",
      "  train accuracy:\t\t93.85 %\n",
      "  validation accuracy:\t\t94.70 %\n",
      "Epoch 6 of 200 took 3.090s\n",
      "  training loss (in-iteration):\t\t0.194328\n",
      "  train accuracy:\t\t94.35 %\n",
      "  validation accuracy:\t\t94.96 %\n",
      "Epoch 7 of 200 took 3.254s\n",
      "  training loss (in-iteration):\t\t0.176543\n",
      "  train accuracy:\t\t94.93 %\n",
      "  validation accuracy:\t\t95.64 %\n",
      "Epoch 8 of 200 took 3.449s\n",
      "  training loss (in-iteration):\t\t0.163694\n",
      "  train accuracy:\t\t95.25 %\n",
      "  validation accuracy:\t\t95.80 %\n",
      "Epoch 9 of 200 took 3.123s\n",
      "  training loss (in-iteration):\t\t0.151425\n",
      "  train accuracy:\t\t95.60 %\n",
      "  validation accuracy:\t\t95.98 %\n",
      "Epoch 10 of 200 took 3.341s\n",
      "  training loss (in-iteration):\t\t0.142636\n",
      "  train accuracy:\t\t95.86 %\n",
      "  validation accuracy:\t\t96.27 %\n",
      "Epoch 11 of 200 took 3.048s\n",
      "  training loss (in-iteration):\t\t0.133047\n",
      "  train accuracy:\t\t96.18 %\n",
      "  validation accuracy:\t\t96.19 %\n",
      "Epoch 12 of 200 took 2.995s\n",
      "  training loss (in-iteration):\t\t0.122126\n",
      "  train accuracy:\t\t96.37 %\n",
      "  validation accuracy:\t\t96.22 %\n",
      "Epoch 13 of 200 took 3.008s\n",
      "  training loss (in-iteration):\t\t0.117436\n",
      "  train accuracy:\t\t96.58 %\n",
      "  validation accuracy:\t\t96.63 %\n",
      "Epoch 14 of 200 took 3.034s\n",
      "  training loss (in-iteration):\t\t0.109785\n",
      "  train accuracy:\t\t96.80 %\n",
      "  validation accuracy:\t\t96.67 %\n",
      "Epoch 15 of 200 took 3.019s\n",
      "  training loss (in-iteration):\t\t0.103685\n",
      "  train accuracy:\t\t96.96 %\n",
      "  validation accuracy:\t\t96.94 %\n",
      "Epoch 16 of 200 took 3.010s\n",
      "  training loss (in-iteration):\t\t0.099556\n",
      "  train accuracy:\t\t97.01 %\n",
      "  validation accuracy:\t\t96.95 %\n",
      "Epoch 17 of 200 took 3.027s\n",
      "  training loss (in-iteration):\t\t0.096384\n",
      "  train accuracy:\t\t97.17 %\n",
      "  validation accuracy:\t\t96.97 %\n",
      "Epoch 18 of 200 took 3.030s\n",
      "  training loss (in-iteration):\t\t0.091213\n",
      "  train accuracy:\t\t97.32 %\n",
      "  validation accuracy:\t\t97.17 %\n",
      "Epoch 19 of 200 took 3.000s\n",
      "  training loss (in-iteration):\t\t0.086598\n",
      "  train accuracy:\t\t97.43 %\n",
      "  validation accuracy:\t\t97.13 %\n",
      "Epoch 20 of 200 took 3.025s\n",
      "  training loss (in-iteration):\t\t0.084070\n",
      "  train accuracy:\t\t97.56 %\n",
      "  validation accuracy:\t\t97.14 %\n",
      "Epoch 21 of 200 took 3.084s\n",
      "  training loss (in-iteration):\t\t0.081240\n",
      "  train accuracy:\t\t97.53 %\n",
      "  validation accuracy:\t\t97.21 %\n",
      "Epoch 22 of 200 took 3.077s\n",
      "  training loss (in-iteration):\t\t0.076264\n",
      "  train accuracy:\t\t97.74 %\n",
      "  validation accuracy:\t\t97.36 %\n",
      "Epoch 23 of 200 took 3.139s\n",
      "  training loss (in-iteration):\t\t0.074808\n",
      "  train accuracy:\t\t97.80 %\n",
      "  validation accuracy:\t\t97.39 %\n",
      "Epoch 24 of 200 took 3.134s\n",
      "  training loss (in-iteration):\t\t0.071823\n",
      "  train accuracy:\t\t97.76 %\n",
      "  validation accuracy:\t\t97.54 %\n",
      "Epoch 25 of 200 took 2.987s\n",
      "  training loss (in-iteration):\t\t0.070463\n",
      "  train accuracy:\t\t97.91 %\n",
      "  validation accuracy:\t\t97.48 %\n",
      "Epoch 26 of 200 took 2.985s\n",
      "  training loss (in-iteration):\t\t0.066905\n",
      "  train accuracy:\t\t97.97 %\n",
      "  validation accuracy:\t\t97.47 %\n",
      "Epoch 27 of 200 took 3.023s\n",
      "  training loss (in-iteration):\t\t0.064572\n",
      "  train accuracy:\t\t98.12 %\n",
      "  validation accuracy:\t\t97.81 %\n",
      "Epoch 28 of 200 took 3.026s\n",
      "  training loss (in-iteration):\t\t0.063562\n",
      "  train accuracy:\t\t98.09 %\n",
      "  validation accuracy:\t\t97.54 %\n",
      "Epoch 29 of 200 took 3.010s\n",
      "  training loss (in-iteration):\t\t0.060625\n",
      "  train accuracy:\t\t98.12 %\n",
      "  validation accuracy:\t\t97.55 %\n",
      "Epoch 30 of 200 took 3.018s\n",
      "  training loss (in-iteration):\t\t0.059625\n",
      "  train accuracy:\t\t98.21 %\n",
      "  validation accuracy:\t\t97.63 %\n",
      "Epoch 31 of 200 took 3.211s\n",
      "  training loss (in-iteration):\t\t0.057562\n",
      "  train accuracy:\t\t98.25 %\n",
      "  validation accuracy:\t\t97.68 %\n",
      "Epoch 32 of 200 took 3.130s\n",
      "  training loss (in-iteration):\t\t0.056578\n",
      "  train accuracy:\t\t98.30 %\n",
      "  validation accuracy:\t\t97.77 %\n",
      "Epoch 33 of 200 took 3.104s\n",
      "  training loss (in-iteration):\t\t0.054824\n",
      "  train accuracy:\t\t98.32 %\n",
      "  validation accuracy:\t\t97.82 %\n",
      "Epoch 34 of 200 took 3.083s\n",
      "  training loss (in-iteration):\t\t0.053641\n",
      "  train accuracy:\t\t98.33 %\n",
      "  validation accuracy:\t\t97.79 %\n",
      "Epoch 35 of 200 took 3.088s\n",
      "  training loss (in-iteration):\t\t0.051624\n",
      "  train accuracy:\t\t98.40 %\n",
      "  validation accuracy:\t\t97.90 %\n",
      "Epoch 36 of 200 took 3.457s\n",
      "  training loss (in-iteration):\t\t0.050109\n",
      "  train accuracy:\t\t98.51 %\n",
      "  validation accuracy:\t\t97.70 %\n",
      "Epoch 37 of 200 took 3.535s\n",
      "  training loss (in-iteration):\t\t0.050024\n",
      "  train accuracy:\t\t98.47 %\n",
      "  validation accuracy:\t\t97.73 %\n",
      "Epoch 38 of 200 took 3.569s\n",
      "  training loss (in-iteration):\t\t0.048079\n",
      "  train accuracy:\t\t98.51 %\n",
      "  validation accuracy:\t\t97.84 %\n",
      "Epoch 39 of 200 took 3.444s\n",
      "  training loss (in-iteration):\t\t0.047678\n",
      "  train accuracy:\t\t98.54 %\n",
      "  validation accuracy:\t\t97.80 %\n",
      "Epoch 40 of 200 took 3.395s\n",
      "  training loss (in-iteration):\t\t0.046210\n",
      "  train accuracy:\t\t98.58 %\n",
      "  validation accuracy:\t\t97.87 %\n",
      "Epoch 41 of 200 took 3.223s\n",
      "  training loss (in-iteration):\t\t0.045523\n",
      "  train accuracy:\t\t98.62 %\n",
      "  validation accuracy:\t\t97.83 %\n",
      "Epoch 42 of 200 took 3.216s\n",
      "  training loss (in-iteration):\t\t0.044211\n",
      "  train accuracy:\t\t98.70 %\n",
      "  validation accuracy:\t\t97.91 %\n",
      "Epoch 43 of 200 took 3.086s\n",
      "  training loss (in-iteration):\t\t0.041792\n",
      "  train accuracy:\t\t98.75 %\n",
      "  validation accuracy:\t\t97.85 %\n",
      "Epoch 44 of 200 took 3.326s\n",
      "  training loss (in-iteration):\t\t0.043427\n",
      "  train accuracy:\t\t98.64 %\n",
      "  validation accuracy:\t\t97.93 %\n",
      "Epoch 45 of 200 took 3.387s\n",
      "  training loss (in-iteration):\t\t0.040442\n",
      "  train accuracy:\t\t98.78 %\n",
      "  validation accuracy:\t\t97.97 %\n",
      "Epoch 46 of 200 took 3.402s\n",
      "  training loss (in-iteration):\t\t0.041500\n",
      "  train accuracy:\t\t98.72 %\n",
      "  validation accuracy:\t\t97.79 %\n",
      "Epoch 47 of 200 took 3.395s\n",
      "  training loss (in-iteration):\t\t0.040691\n",
      "  train accuracy:\t\t98.77 %\n",
      "  validation accuracy:\t\t98.04 %\n",
      "Epoch 48 of 200 took 3.379s\n",
      "  training loss (in-iteration):\t\t0.040022\n",
      "  train accuracy:\t\t98.76 %\n",
      "  validation accuracy:\t\t97.91 %\n",
      "Epoch 49 of 200 took 3.396s\n",
      "  training loss (in-iteration):\t\t0.038519\n",
      "  train accuracy:\t\t98.82 %\n",
      "  validation accuracy:\t\t97.95 %\n",
      "Epoch 50 of 200 took 3.343s\n",
      "  training loss (in-iteration):\t\t0.038818\n",
      "  train accuracy:\t\t98.82 %\n",
      "  validation accuracy:\t\t97.79 %\n",
      "Epoch 51 of 200 took 3.342s\n",
      "  training loss (in-iteration):\t\t0.036398\n",
      "  train accuracy:\t\t98.88 %\n",
      "  validation accuracy:\t\t98.17 %\n",
      "Epoch 52 of 200 took 3.362s\n",
      "  training loss (in-iteration):\t\t0.037072\n",
      "  train accuracy:\t\t98.86 %\n",
      "  validation accuracy:\t\t97.91 %\n",
      "Epoch 53 of 200 took 3.427s\n",
      "  training loss (in-iteration):\t\t0.036543\n",
      "  train accuracy:\t\t98.86 %\n",
      "  validation accuracy:\t\t97.89 %\n",
      "Epoch 54 of 200 took 3.383s\n",
      "  training loss (in-iteration):\t\t0.034751\n",
      "  train accuracy:\t\t98.95 %\n",
      "  validation accuracy:\t\t97.95 %\n",
      "Epoch 55 of 200 took 3.025s\n",
      "  training loss (in-iteration):\t\t0.034845\n",
      "  train accuracy:\t\t98.90 %\n",
      "  validation accuracy:\t\t98.13 %\n",
      "Epoch 56 of 200 took 3.062s\n",
      "  training loss (in-iteration):\t\t0.035178\n",
      "  train accuracy:\t\t98.89 %\n",
      "  validation accuracy:\t\t98.02 %\n",
      "Epoch 57 of 200 took 3.035s\n",
      "  training loss (in-iteration):\t\t0.034914\n",
      "  train accuracy:\t\t98.97 %\n",
      "  validation accuracy:\t\t98.07 %\n",
      "Epoch 58 of 200 took 3.002s\n",
      "  training loss (in-iteration):\t\t0.032902\n",
      "  train accuracy:\t\t99.01 %\n",
      "  validation accuracy:\t\t98.04 %\n",
      "Epoch 59 of 200 took 3.069s\n",
      "  training loss (in-iteration):\t\t0.032032\n",
      "  train accuracy:\t\t98.99 %\n",
      "  validation accuracy:\t\t98.16 %\n",
      "Epoch 60 of 200 took 3.063s\n",
      "  training loss (in-iteration):\t\t0.031823\n",
      "  train accuracy:\t\t98.99 %\n",
      "  validation accuracy:\t\t98.03 %\n",
      "Epoch 61 of 200 took 3.089s\n",
      "  training loss (in-iteration):\t\t0.031909\n",
      "  train accuracy:\t\t99.00 %\n",
      "  validation accuracy:\t\t97.83 %\n",
      "Epoch 62 of 200 took 3.069s\n",
      "  training loss (in-iteration):\t\t0.031212\n",
      "  train accuracy:\t\t99.03 %\n",
      "  validation accuracy:\t\t97.96 %\n",
      "Epoch 63 of 200 took 3.303s\n",
      "  training loss (in-iteration):\t\t0.029320\n",
      "  train accuracy:\t\t99.10 %\n",
      "  validation accuracy:\t\t98.10 %\n",
      "Epoch 64 of 200 took 3.065s\n",
      "  training loss (in-iteration):\t\t0.029796\n",
      "  train accuracy:\t\t99.05 %\n",
      "  validation accuracy:\t\t98.14 %\n",
      "Epoch 65 of 200 took 2.990s\n",
      "  training loss (in-iteration):\t\t0.028277\n",
      "  train accuracy:\t\t99.15 %\n",
      "  validation accuracy:\t\t98.01 %\n",
      "Epoch 66 of 200 took 3.334s\n",
      "  training loss (in-iteration):\t\t0.028661\n",
      "  train accuracy:\t\t99.13 %\n",
      "  validation accuracy:\t\t98.11 %\n",
      "Epoch 67 of 200 took 3.515s\n",
      "  training loss (in-iteration):\t\t0.028190\n",
      "  train accuracy:\t\t99.13 %\n",
      "  validation accuracy:\t\t98.06 %\n",
      "Epoch 68 of 200 took 3.443s\n",
      "  training loss (in-iteration):\t\t0.025591\n",
      "  train accuracy:\t\t99.21 %\n",
      "  validation accuracy:\t\t97.99 %\n",
      "Epoch 69 of 200 took 3.565s\n",
      "  training loss (in-iteration):\t\t0.027924\n",
      "  train accuracy:\t\t99.15 %\n",
      "  validation accuracy:\t\t98.05 %\n",
      "Epoch 70 of 200 took 3.478s\n",
      "  training loss (in-iteration):\t\t0.027523\n",
      "  train accuracy:\t\t99.18 %\n",
      "  validation accuracy:\t\t98.21 %\n",
      "Epoch 71 of 200 took 3.589s\n",
      "  training loss (in-iteration):\t\t0.026127\n",
      "  train accuracy:\t\t99.19 %\n",
      "  validation accuracy:\t\t98.23 %\n",
      "Epoch 72 of 200 took 3.573s\n",
      "  training loss (in-iteration):\t\t0.025772\n",
      "  train accuracy:\t\t99.21 %\n",
      "  validation accuracy:\t\t98.24 %\n",
      "Epoch 73 of 200 took 3.392s\n",
      "  training loss (in-iteration):\t\t0.026414\n",
      "  train accuracy:\t\t99.15 %\n",
      "  validation accuracy:\t\t98.32 %\n",
      "Epoch 74 of 200 took 3.195s\n",
      "  training loss (in-iteration):\t\t0.025178\n",
      "  train accuracy:\t\t99.22 %\n",
      "  validation accuracy:\t\t98.04 %\n",
      "Epoch 75 of 200 took 3.319s\n",
      "  training loss (in-iteration):\t\t0.025368\n",
      "  train accuracy:\t\t99.19 %\n",
      "  validation accuracy:\t\t98.17 %\n",
      "Epoch 76 of 200 took 3.535s\n",
      "  training loss (in-iteration):\t\t0.024172\n",
      "  train accuracy:\t\t99.27 %\n",
      "  validation accuracy:\t\t98.21 %\n",
      "Epoch 77 of 200 took 3.390s\n",
      "  training loss (in-iteration):\t\t0.024257\n",
      "  train accuracy:\t\t99.24 %\n",
      "  validation accuracy:\t\t98.07 %\n",
      "Epoch 78 of 200 took 3.146s\n",
      "  training loss (in-iteration):\t\t0.024156\n",
      "  train accuracy:\t\t99.25 %\n",
      "  validation accuracy:\t\t98.09 %\n",
      "Epoch 79 of 200 took 3.159s\n",
      "  training loss (in-iteration):\t\t0.023376\n",
      "  train accuracy:\t\t99.28 %\n",
      "  validation accuracy:\t\t98.11 %\n",
      "Epoch 80 of 200 took 3.266s\n",
      "  training loss (in-iteration):\t\t0.022757\n",
      "  train accuracy:\t\t99.30 %\n",
      "  validation accuracy:\t\t98.22 %\n",
      "Epoch 81 of 200 took 3.122s\n",
      "  training loss (in-iteration):\t\t0.022576\n",
      "  train accuracy:\t\t99.29 %\n",
      "  validation accuracy:\t\t98.26 %\n",
      "Epoch 82 of 200 took 3.276s\n",
      "  training loss (in-iteration):\t\t0.023440\n",
      "  train accuracy:\t\t99.29 %\n",
      "  validation accuracy:\t\t98.14 %\n",
      "Epoch 83 of 200 took 3.148s\n",
      "  training loss (in-iteration):\t\t0.022356\n",
      "  train accuracy:\t\t99.30 %\n",
      "  validation accuracy:\t\t98.06 %\n",
      "Epoch 84 of 200 took 3.007s\n",
      "  training loss (in-iteration):\t\t0.021903\n",
      "  train accuracy:\t\t99.30 %\n",
      "  validation accuracy:\t\t97.98 %\n",
      "Epoch 85 of 200 took 3.068s\n",
      "  training loss (in-iteration):\t\t0.021812\n",
      "  train accuracy:\t\t99.34 %\n",
      "  validation accuracy:\t\t98.01 %\n",
      "Epoch 86 of 200 took 3.544s\n",
      "  training loss (in-iteration):\t\t0.021270\n",
      "  train accuracy:\t\t99.33 %\n",
      "  validation accuracy:\t\t98.25 %\n",
      "Epoch 87 of 200 took 3.701s\n",
      "  training loss (in-iteration):\t\t0.021471\n",
      "  train accuracy:\t\t99.35 %\n",
      "  validation accuracy:\t\t98.27 %\n",
      "Epoch 88 of 200 took 3.568s\n",
      "  training loss (in-iteration):\t\t0.022254\n",
      "  train accuracy:\t\t99.32 %\n",
      "  validation accuracy:\t\t98.28 %\n",
      "Epoch 89 of 200 took 3.149s\n",
      "  training loss (in-iteration):\t\t0.021350\n",
      "  train accuracy:\t\t99.37 %\n",
      "  validation accuracy:\t\t98.06 %\n",
      "Epoch 90 of 200 took 3.076s\n",
      "  training loss (in-iteration):\t\t0.020559\n",
      "  train accuracy:\t\t99.35 %\n",
      "  validation accuracy:\t\t98.16 %\n",
      "Epoch 91 of 200 took 3.071s\n",
      "  training loss (in-iteration):\t\t0.020250\n",
      "  train accuracy:\t\t99.33 %\n",
      "  validation accuracy:\t\t98.13 %\n",
      "Epoch 92 of 200 took 3.089s\n",
      "  training loss (in-iteration):\t\t0.019757\n",
      "  train accuracy:\t\t99.38 %\n",
      "  validation accuracy:\t\t98.14 %\n",
      "Epoch 93 of 200 took 3.089s\n",
      "  training loss (in-iteration):\t\t0.020200\n",
      "  train accuracy:\t\t99.36 %\n",
      "  validation accuracy:\t\t98.26 %\n",
      "Epoch 94 of 200 took 3.071s\n",
      "  training loss (in-iteration):\t\t0.019124\n",
      "  train accuracy:\t\t99.38 %\n",
      "  validation accuracy:\t\t98.20 %\n",
      "Epoch 95 of 200 took 3.074s\n",
      "  training loss (in-iteration):\t\t0.019177\n",
      "  train accuracy:\t\t99.42 %\n",
      "  validation accuracy:\t\t98.28 %\n",
      "Epoch 96 of 200 took 3.074s\n",
      "  training loss (in-iteration):\t\t0.018619\n",
      "  train accuracy:\t\t99.40 %\n",
      "  validation accuracy:\t\t98.02 %\n",
      "Epoch 97 of 200 took 2.955s\n",
      "  training loss (in-iteration):\t\t0.019183\n",
      "  train accuracy:\t\t99.37 %\n",
      "  validation accuracy:\t\t98.34 %\n",
      "Epoch 98 of 200 took 2.945s\n",
      "  training loss (in-iteration):\t\t0.019746\n",
      "  train accuracy:\t\t99.37 %\n",
      "  validation accuracy:\t\t98.26 %\n",
      "Epoch 99 of 200 took 3.049s\n",
      "  training loss (in-iteration):\t\t0.018825\n",
      "  train accuracy:\t\t99.40 %\n",
      "  validation accuracy:\t\t98.34 %\n",
      "Epoch 100 of 200 took 3.071s\n",
      "  training loss (in-iteration):\t\t0.018096\n",
      "  train accuracy:\t\t99.44 %\n",
      "  validation accuracy:\t\t98.11 %\n",
      "Epoch 101 of 200 took 3.073s\n",
      "  training loss (in-iteration):\t\t0.017362\n",
      "  train accuracy:\t\t99.48 %\n",
      "  validation accuracy:\t\t98.15 %\n",
      "Epoch 102 of 200 took 3.091s\n",
      "  training loss (in-iteration):\t\t0.017681\n",
      "  train accuracy:\t\t99.44 %\n",
      "  validation accuracy:\t\t98.31 %\n",
      "Epoch 103 of 200 took 3.083s\n",
      "  training loss (in-iteration):\t\t0.017299\n",
      "  train accuracy:\t\t99.48 %\n",
      "  validation accuracy:\t\t98.24 %\n",
      "Epoch 104 of 200 took 3.016s\n",
      "  training loss (in-iteration):\t\t0.015989\n",
      "  train accuracy:\t\t99.49 %\n",
      "  validation accuracy:\t\t98.04 %\n",
      "Epoch 105 of 200 took 3.061s\n",
      "  training loss (in-iteration):\t\t0.018148\n",
      "  train accuracy:\t\t99.40 %\n",
      "  validation accuracy:\t\t98.15 %\n",
      "Epoch 106 of 200 took 3.068s\n",
      "  training loss (in-iteration):\t\t0.016545\n",
      "  train accuracy:\t\t99.48 %\n",
      "  validation accuracy:\t\t98.13 %\n",
      "Epoch 107 of 200 took 3.038s\n",
      "  training loss (in-iteration):\t\t0.016396\n",
      "  train accuracy:\t\t99.48 %\n",
      "  validation accuracy:\t\t98.23 %\n",
      "Epoch 108 of 200 took 3.078s\n",
      "  training loss (in-iteration):\t\t0.016902\n",
      "  train accuracy:\t\t99.49 %\n",
      "  validation accuracy:\t\t98.09 %\n",
      "Epoch 109 of 200 took 3.082s\n",
      "  training loss (in-iteration):\t\t0.016415\n",
      "  train accuracy:\t\t99.50 %\n",
      "  validation accuracy:\t\t98.25 %\n",
      "Epoch 110 of 200 took 3.146s\n",
      "  training loss (in-iteration):\t\t0.015606\n",
      "  train accuracy:\t\t99.50 %\n",
      "  validation accuracy:\t\t98.15 %\n",
      "Epoch 111 of 200 took 3.157s\n",
      "  training loss (in-iteration):\t\t0.016079\n",
      "  train accuracy:\t\t99.53 %\n",
      "  validation accuracy:\t\t98.32 %\n",
      "Epoch 112 of 200 took 3.180s\n",
      "  training loss (in-iteration):\t\t0.016205\n",
      "  train accuracy:\t\t99.50 %\n",
      "  validation accuracy:\t\t98.17 %\n",
      "Epoch 113 of 200 took 3.179s\n",
      "  training loss (in-iteration):\t\t0.016910\n",
      "  train accuracy:\t\t99.47 %\n",
      "  validation accuracy:\t\t98.37 %\n",
      "Epoch 114 of 200 took 3.330s\n",
      "  training loss (in-iteration):\t\t0.015270\n",
      "  train accuracy:\t\t99.54 %\n",
      "  validation accuracy:\t\t98.23 %\n",
      "Epoch 115 of 200 took 3.540s\n",
      "  training loss (in-iteration):\t\t0.015471\n",
      "  train accuracy:\t\t99.51 %\n",
      "  validation accuracy:\t\t98.19 %\n",
      "Epoch 116 of 200 took 3.389s\n",
      "  training loss (in-iteration):\t\t0.014836\n",
      "  train accuracy:\t\t99.56 %\n",
      "  validation accuracy:\t\t98.22 %\n",
      "Epoch 117 of 200 took 3.180s\n",
      "  training loss (in-iteration):\t\t0.014814\n",
      "  train accuracy:\t\t99.56 %\n",
      "  validation accuracy:\t\t98.11 %\n",
      "Epoch 118 of 200 took 3.309s\n",
      "  training loss (in-iteration):\t\t0.015753\n",
      "  train accuracy:\t\t99.49 %\n",
      "  validation accuracy:\t\t98.18 %\n",
      "Epoch 119 of 200 took 3.507s\n",
      "  training loss (in-iteration):\t\t0.015024\n",
      "  train accuracy:\t\t99.54 %\n",
      "  validation accuracy:\t\t98.23 %\n",
      "Epoch 120 of 200 took 3.533s\n",
      "  training loss (in-iteration):\t\t0.014846\n",
      "  train accuracy:\t\t99.51 %\n",
      "  validation accuracy:\t\t98.25 %\n",
      "Epoch 121 of 200 took 3.183s\n",
      "  training loss (in-iteration):\t\t0.014678\n",
      "  train accuracy:\t\t99.54 %\n",
      "  validation accuracy:\t\t98.15 %\n",
      "Epoch 122 of 200 took 3.105s\n",
      "  training loss (in-iteration):\t\t0.014316\n",
      "  train accuracy:\t\t99.58 %\n",
      "  validation accuracy:\t\t98.27 %\n",
      "Epoch 123 of 200 took 3.192s\n",
      "  training loss (in-iteration):\t\t0.012930\n",
      "  train accuracy:\t\t99.60 %\n",
      "  validation accuracy:\t\t98.19 %\n",
      "Epoch 124 of 200 took 3.390s\n",
      "  training loss (in-iteration):\t\t0.013228\n",
      "  train accuracy:\t\t99.59 %\n",
      "  validation accuracy:\t\t98.14 %\n",
      "Epoch 125 of 200 took 3.354s\n",
      "  training loss (in-iteration):\t\t0.012703\n",
      "  train accuracy:\t\t99.60 %\n",
      "  validation accuracy:\t\t98.28 %\n",
      "Epoch 126 of 200 took 3.341s\n",
      "  training loss (in-iteration):\t\t0.014013\n",
      "  train accuracy:\t\t99.56 %\n",
      "  validation accuracy:\t\t98.21 %\n",
      "Epoch 127 of 200 took 3.370s\n",
      "  training loss (in-iteration):\t\t0.014012\n",
      "  train accuracy:\t\t99.58 %\n",
      "  validation accuracy:\t\t98.21 %\n",
      "Epoch 128 of 200 took 3.319s\n",
      "  training loss (in-iteration):\t\t0.013965\n",
      "  train accuracy:\t\t99.59 %\n",
      "  validation accuracy:\t\t98.23 %\n",
      "Epoch 129 of 200 took 3.045s\n",
      "  training loss (in-iteration):\t\t0.014806\n",
      "  train accuracy:\t\t99.56 %\n",
      "  validation accuracy:\t\t98.35 %\n",
      "Epoch 130 of 200 took 3.086s\n",
      "  training loss (in-iteration):\t\t0.012797\n",
      "  train accuracy:\t\t99.60 %\n",
      "  validation accuracy:\t\t98.32 %\n",
      "Epoch 131 of 200 took 3.398s\n",
      "  training loss (in-iteration):\t\t0.013048\n",
      "  train accuracy:\t\t99.58 %\n",
      "  validation accuracy:\t\t98.29 %\n",
      "Epoch 132 of 200 took 3.431s\n",
      "  training loss (in-iteration):\t\t0.013374\n",
      "  train accuracy:\t\t99.55 %\n",
      "  validation accuracy:\t\t98.43 %\n",
      "Epoch 133 of 200 took 3.395s\n",
      "  training loss (in-iteration):\t\t0.012408\n",
      "  train accuracy:\t\t99.63 %\n",
      "  validation accuracy:\t\t98.25 %\n",
      "Epoch 134 of 200 took 3.232s\n",
      "  training loss (in-iteration):\t\t0.013219\n",
      "  train accuracy:\t\t99.57 %\n",
      "  validation accuracy:\t\t98.31 %\n",
      "Epoch 135 of 200 took 3.148s\n",
      "  training loss (in-iteration):\t\t0.012433\n",
      "  train accuracy:\t\t99.63 %\n",
      "  validation accuracy:\t\t98.14 %\n",
      "Epoch 136 of 200 took 3.170s\n",
      "  training loss (in-iteration):\t\t0.012810\n",
      "  train accuracy:\t\t99.61 %\n",
      "  validation accuracy:\t\t98.21 %\n",
      "Epoch 137 of 200 took 2.958s\n",
      "  training loss (in-iteration):\t\t0.011941\n",
      "  train accuracy:\t\t99.64 %\n",
      "  validation accuracy:\t\t98.33 %\n",
      "Epoch 138 of 200 took 3.146s\n",
      "  training loss (in-iteration):\t\t0.011552\n",
      "  train accuracy:\t\t99.63 %\n",
      "  validation accuracy:\t\t98.18 %\n",
      "Epoch 139 of 200 took 3.127s\n",
      "  training loss (in-iteration):\t\t0.012603\n",
      "  train accuracy:\t\t99.61 %\n",
      "  validation accuracy:\t\t98.19 %\n",
      "Epoch 140 of 200 took 3.189s\n",
      "  training loss (in-iteration):\t\t0.012510\n",
      "  train accuracy:\t\t99.60 %\n",
      "  validation accuracy:\t\t98.19 %\n",
      "Epoch 141 of 200 took 3.080s\n",
      "  training loss (in-iteration):\t\t0.012146\n",
      "  train accuracy:\t\t99.64 %\n",
      "  validation accuracy:\t\t98.30 %\n",
      "Epoch 142 of 200 took 3.115s\n",
      "  training loss (in-iteration):\t\t0.012245\n",
      "  train accuracy:\t\t99.60 %\n",
      "  validation accuracy:\t\t98.24 %\n",
      "Epoch 143 of 200 took 3.062s\n",
      "  training loss (in-iteration):\t\t0.011613\n",
      "  train accuracy:\t\t99.65 %\n",
      "  validation accuracy:\t\t98.35 %\n",
      "Epoch 144 of 200 took 3.057s\n",
      "  training loss (in-iteration):\t\t0.010977\n",
      "  train accuracy:\t\t99.65 %\n",
      "  validation accuracy:\t\t98.43 %\n",
      "Epoch 145 of 200 took 3.095s\n",
      "  training loss (in-iteration):\t\t0.010836\n",
      "  train accuracy:\t\t99.68 %\n",
      "  validation accuracy:\t\t98.34 %\n",
      "Epoch 146 of 200 took 3.145s\n",
      "  training loss (in-iteration):\t\t0.011307\n",
      "  train accuracy:\t\t99.67 %\n",
      "  validation accuracy:\t\t98.12 %\n",
      "Epoch 147 of 200 took 3.132s\n",
      "  training loss (in-iteration):\t\t0.011466\n",
      "  train accuracy:\t\t99.61 %\n",
      "  validation accuracy:\t\t98.32 %\n",
      "Epoch 148 of 200 took 3.096s\n",
      "  training loss (in-iteration):\t\t0.011408\n",
      "  train accuracy:\t\t99.64 %\n",
      "  validation accuracy:\t\t98.27 %\n",
      "Epoch 149 of 200 took 3.056s\n",
      "  training loss (in-iteration):\t\t0.011438\n",
      "  train accuracy:\t\t99.66 %\n",
      "  validation accuracy:\t\t98.34 %\n",
      "Epoch 150 of 200 took 3.365s\n",
      "  training loss (in-iteration):\t\t0.010926\n",
      "  train accuracy:\t\t99.66 %\n",
      "  validation accuracy:\t\t98.09 %\n",
      "Epoch 151 of 200 took 3.327s\n",
      "  training loss (in-iteration):\t\t0.010804\n",
      "  train accuracy:\t\t99.64 %\n",
      "  validation accuracy:\t\t98.22 %\n",
      "Epoch 152 of 200 took 3.440s\n",
      "  training loss (in-iteration):\t\t0.012755\n",
      "  train accuracy:\t\t99.57 %\n",
      "  validation accuracy:\t\t98.28 %\n",
      "Epoch 153 of 200 took 3.418s\n",
      "  training loss (in-iteration):\t\t0.009977\n",
      "  train accuracy:\t\t99.71 %\n",
      "  validation accuracy:\t\t98.23 %\n",
      "Epoch 154 of 200 took 3.503s\n",
      "  training loss (in-iteration):\t\t0.011209\n",
      "  train accuracy:\t\t99.67 %\n",
      "  validation accuracy:\t\t98.35 %\n",
      "Epoch 155 of 200 took 3.243s\n",
      "  training loss (in-iteration):\t\t0.011547\n",
      "  train accuracy:\t\t99.65 %\n",
      "  validation accuracy:\t\t98.35 %\n",
      "Epoch 156 of 200 took 3.061s\n",
      "  training loss (in-iteration):\t\t0.010962\n",
      "  train accuracy:\t\t99.66 %\n",
      "  validation accuracy:\t\t98.40 %\n",
      "Epoch 157 of 200 took 2.959s\n",
      "  training loss (in-iteration):\t\t0.011150\n",
      "  train accuracy:\t\t99.64 %\n",
      "  validation accuracy:\t\t98.36 %\n",
      "Epoch 158 of 200 took 2.951s\n",
      "  training loss (in-iteration):\t\t0.010936\n",
      "  train accuracy:\t\t99.65 %\n",
      "  validation accuracy:\t\t98.36 %\n",
      "Epoch 159 of 200 took 2.951s\n",
      "  training loss (in-iteration):\t\t0.009599\n",
      "  train accuracy:\t\t99.71 %\n",
      "  validation accuracy:\t\t98.23 %\n",
      "Epoch 160 of 200 took 3.033s\n",
      "  training loss (in-iteration):\t\t0.009759\n",
      "  train accuracy:\t\t99.72 %\n",
      "  validation accuracy:\t\t98.23 %\n",
      "Epoch 161 of 200 took 3.236s\n",
      "  training loss (in-iteration):\t\t0.009941\n",
      "  train accuracy:\t\t99.71 %\n",
      "  validation accuracy:\t\t98.41 %\n",
      "Epoch 162 of 200 took 3.171s\n",
      "  training loss (in-iteration):\t\t0.010440\n",
      "  train accuracy:\t\t99.70 %\n",
      "  validation accuracy:\t\t98.17 %\n",
      "Epoch 163 of 200 took 2.949s\n",
      "  training loss (in-iteration):\t\t0.010529\n",
      "  train accuracy:\t\t99.63 %\n",
      "  validation accuracy:\t\t98.38 %\n",
      "Epoch 164 of 200 took 2.957s\n",
      "  training loss (in-iteration):\t\t0.009656\n",
      "  train accuracy:\t\t99.70 %\n",
      "  validation accuracy:\t\t98.19 %\n",
      "Epoch 165 of 200 took 3.161s\n",
      "  training loss (in-iteration):\t\t0.010066\n",
      "  train accuracy:\t\t99.71 %\n",
      "  validation accuracy:\t\t98.43 %\n",
      "Epoch 166 of 200 took 3.156s\n",
      "  training loss (in-iteration):\t\t0.009594\n",
      "  train accuracy:\t\t99.71 %\n",
      "  validation accuracy:\t\t98.28 %\n",
      "Epoch 167 of 200 took 3.313s\n",
      "  training loss (in-iteration):\t\t0.010774\n",
      "  train accuracy:\t\t99.65 %\n",
      "  validation accuracy:\t\t98.33 %\n",
      "Epoch 168 of 200 took 3.138s\n",
      "  training loss (in-iteration):\t\t0.010326\n",
      "  train accuracy:\t\t99.67 %\n",
      "  validation accuracy:\t\t98.24 %\n",
      "Epoch 169 of 200 took 3.192s\n",
      "  training loss (in-iteration):\t\t0.009706\n",
      "  train accuracy:\t\t99.70 %\n",
      "  validation accuracy:\t\t98.13 %\n",
      "Epoch 170 of 200 took 3.207s\n",
      "  training loss (in-iteration):\t\t0.010239\n",
      "  train accuracy:\t\t99.70 %\n",
      "  validation accuracy:\t\t98.21 %\n",
      "Epoch 171 of 200 took 3.577s\n",
      "  training loss (in-iteration):\t\t0.009373\n",
      "  train accuracy:\t\t99.70 %\n",
      "  validation accuracy:\t\t98.35 %\n",
      "Epoch 172 of 200 took 3.332s\n",
      "  training loss (in-iteration):\t\t0.009607\n",
      "  train accuracy:\t\t99.72 %\n",
      "  validation accuracy:\t\t98.28 %\n",
      "Epoch 173 of 200 took 3.139s\n",
      "  training loss (in-iteration):\t\t0.009551\n",
      "  train accuracy:\t\t99.73 %\n",
      "  validation accuracy:\t\t98.20 %\n",
      "Epoch 174 of 200 took 3.274s\n",
      "  training loss (in-iteration):\t\t0.010122\n",
      "  train accuracy:\t\t99.67 %\n",
      "  validation accuracy:\t\t98.37 %\n",
      "Epoch 175 of 200 took 3.377s\n",
      "  training loss (in-iteration):\t\t0.009584\n",
      "  train accuracy:\t\t99.72 %\n",
      "  validation accuracy:\t\t98.24 %\n",
      "Epoch 176 of 200 took 3.231s\n",
      "  training loss (in-iteration):\t\t0.009442\n",
      "  train accuracy:\t\t99.68 %\n",
      "  validation accuracy:\t\t98.26 %\n",
      "Epoch 177 of 200 took 3.383s\n",
      "  training loss (in-iteration):\t\t0.009319\n",
      "  train accuracy:\t\t99.71 %\n",
      "  validation accuracy:\t\t98.34 %\n",
      "Epoch 178 of 200 took 3.395s\n",
      "  training loss (in-iteration):\t\t0.009266\n",
      "  train accuracy:\t\t99.72 %\n",
      "  validation accuracy:\t\t98.40 %\n",
      "Epoch 179 of 200 took 3.345s\n",
      "  training loss (in-iteration):\t\t0.009807\n",
      "  train accuracy:\t\t99.71 %\n",
      "  validation accuracy:\t\t98.31 %\n",
      "Epoch 180 of 200 took 3.229s\n",
      "  training loss (in-iteration):\t\t0.009752\n",
      "  train accuracy:\t\t99.70 %\n",
      "  validation accuracy:\t\t98.44 %\n",
      "Epoch 181 of 200 took 3.270s\n",
      "  training loss (in-iteration):\t\t0.009677\n",
      "  train accuracy:\t\t99.70 %\n",
      "  validation accuracy:\t\t98.09 %\n"
     ]
    },
    {
     "ename": "KeyboardInterrupt",
     "evalue": "",
     "output_type": "error",
     "traceback": [
      "\u001b[0;31m---------------------------------------------------------------------------\u001b[0m",
      "\u001b[0;31mKeyboardInterrupt\u001b[0m                         Traceback (most recent call last)",
      "\u001b[0;32m<ipython-input-62-4c42ab6e1818>\u001b[0m in \u001b[0;36m<module>\u001b[0;34m()\u001b[0m\n\u001b[1;32m     14\u001b[0m     \u001b[0;32mfor\u001b[0m \u001b[0mbatch\u001b[0m \u001b[0;32min\u001b[0m \u001b[0miterate_minibatches\u001b[0m\u001b[0;34m(\u001b[0m\u001b[0mX_train\u001b[0m\u001b[0;34m,\u001b[0m \u001b[0my_train\u001b[0m\u001b[0;34m,\u001b[0m\u001b[0mbatch_size\u001b[0m\u001b[0;34m)\u001b[0m\u001b[0;34m:\u001b[0m\u001b[0;34m\u001b[0m\u001b[0m\n\u001b[1;32m     15\u001b[0m         \u001b[0minputs\u001b[0m\u001b[0;34m,\u001b[0m \u001b[0mtargets\u001b[0m \u001b[0;34m=\u001b[0m \u001b[0mbatch\u001b[0m\u001b[0;34m\u001b[0m\u001b[0m\n\u001b[0;32m---> 16\u001b[0;31m         \u001b[0mtrain_err_batch\u001b[0m\u001b[0;34m,\u001b[0m \u001b[0mtrain_acc_batch\u001b[0m\u001b[0;34m=\u001b[0m \u001b[0mtrain_fun\u001b[0m\u001b[0;34m(\u001b[0m\u001b[0minputs\u001b[0m\u001b[0;34m,\u001b[0m \u001b[0mtargets\u001b[0m\u001b[0;34m)\u001b[0m\u001b[0;34m\u001b[0m\u001b[0m\n\u001b[0m\u001b[1;32m     17\u001b[0m         \u001b[0mtrain_err\u001b[0m \u001b[0;34m+=\u001b[0m \u001b[0mtrain_err_batch\u001b[0m\u001b[0;34m\u001b[0m\u001b[0m\n\u001b[1;32m     18\u001b[0m         \u001b[0mtrain_acc\u001b[0m \u001b[0;34m+=\u001b[0m \u001b[0mtrain_acc_batch\u001b[0m\u001b[0;34m\u001b[0m\u001b[0m\n",
      "\u001b[0;32m/home/ivan/.virtualenvs/math/local/lib/python2.7/site-packages/theano/compile/function_module.pyc\u001b[0m in \u001b[0;36m__call__\u001b[0;34m(self, *args, **kwargs)\u001b[0m\n\u001b[1;32m    857\u001b[0m         \u001b[0mt0_fn\u001b[0m \u001b[0;34m=\u001b[0m \u001b[0mtime\u001b[0m\u001b[0;34m.\u001b[0m\u001b[0mtime\u001b[0m\u001b[0;34m(\u001b[0m\u001b[0;34m)\u001b[0m\u001b[0;34m\u001b[0m\u001b[0m\n\u001b[1;32m    858\u001b[0m         \u001b[0;32mtry\u001b[0m\u001b[0;34m:\u001b[0m\u001b[0;34m\u001b[0m\u001b[0m\n\u001b[0;32m--> 859\u001b[0;31m             \u001b[0moutputs\u001b[0m \u001b[0;34m=\u001b[0m \u001b[0mself\u001b[0m\u001b[0;34m.\u001b[0m\u001b[0mfn\u001b[0m\u001b[0;34m(\u001b[0m\u001b[0;34m)\u001b[0m\u001b[0;34m\u001b[0m\u001b[0m\n\u001b[0m\u001b[1;32m    860\u001b[0m         \u001b[0;32mexcept\u001b[0m \u001b[0mException\u001b[0m\u001b[0;34m:\u001b[0m\u001b[0;34m\u001b[0m\u001b[0m\n\u001b[1;32m    861\u001b[0m             \u001b[0;32mif\u001b[0m \u001b[0mhasattr\u001b[0m\u001b[0;34m(\u001b[0m\u001b[0mself\u001b[0m\u001b[0;34m.\u001b[0m\u001b[0mfn\u001b[0m\u001b[0;34m,\u001b[0m \u001b[0;34m'position_of_error'\u001b[0m\u001b[0;34m)\u001b[0m\u001b[0;34m:\u001b[0m\u001b[0;34m\u001b[0m\u001b[0m\n",
      "\u001b[0;32m/home/ivan/.virtualenvs/math/local/lib/python2.7/site-packages/theano/gof/op.pyc\u001b[0m in \u001b[0;36mrval\u001b[0;34m(p, i, o, n)\u001b[0m\n\u001b[1;32m    909\u001b[0m         \u001b[0;32mif\u001b[0m \u001b[0mparams\u001b[0m \u001b[0;32mis\u001b[0m \u001b[0mgraph\u001b[0m\u001b[0;34m.\u001b[0m\u001b[0mNoParams\u001b[0m\u001b[0;34m:\u001b[0m\u001b[0;34m\u001b[0m\u001b[0m\n\u001b[1;32m    910\u001b[0m             \u001b[0;31m# default arguments are stored in the closure of `rval`\u001b[0m\u001b[0;34m\u001b[0m\u001b[0;34m\u001b[0m\u001b[0m\n\u001b[0;32m--> 911\u001b[0;31m             \u001b[0;32mdef\u001b[0m \u001b[0mrval\u001b[0m\u001b[0;34m(\u001b[0m\u001b[0mp\u001b[0m\u001b[0;34m=\u001b[0m\u001b[0mp\u001b[0m\u001b[0;34m,\u001b[0m \u001b[0mi\u001b[0m\u001b[0;34m=\u001b[0m\u001b[0mnode_input_storage\u001b[0m\u001b[0;34m,\u001b[0m \u001b[0mo\u001b[0m\u001b[0;34m=\u001b[0m\u001b[0mnode_output_storage\u001b[0m\u001b[0;34m,\u001b[0m \u001b[0mn\u001b[0m\u001b[0;34m=\u001b[0m\u001b[0mnode\u001b[0m\u001b[0;34m)\u001b[0m\u001b[0;34m:\u001b[0m\u001b[0;34m\u001b[0m\u001b[0m\n\u001b[0m\u001b[1;32m    912\u001b[0m                 \u001b[0mr\u001b[0m \u001b[0;34m=\u001b[0m \u001b[0mp\u001b[0m\u001b[0;34m(\u001b[0m\u001b[0mn\u001b[0m\u001b[0;34m,\u001b[0m \u001b[0;34m[\u001b[0m\u001b[0mx\u001b[0m\u001b[0;34m[\u001b[0m\u001b[0;36m0\u001b[0m\u001b[0;34m]\u001b[0m \u001b[0;32mfor\u001b[0m \u001b[0mx\u001b[0m \u001b[0;32min\u001b[0m \u001b[0mi\u001b[0m\u001b[0;34m]\u001b[0m\u001b[0;34m,\u001b[0m \u001b[0mo\u001b[0m\u001b[0;34m)\u001b[0m\u001b[0;34m\u001b[0m\u001b[0m\n\u001b[1;32m    913\u001b[0m                 \u001b[0;32mfor\u001b[0m \u001b[0mo\u001b[0m \u001b[0;32min\u001b[0m \u001b[0mnode\u001b[0m\u001b[0;34m.\u001b[0m\u001b[0moutputs\u001b[0m\u001b[0;34m:\u001b[0m\u001b[0;34m\u001b[0m\u001b[0m\n",
      "\u001b[0;31mKeyboardInterrupt\u001b[0m: "
     ]
    }
   ],
   "source": [
    "#итерации обучения\n",
    "import time\n",
    "\n",
    "num_epochs = 200 #количество проходов по данным\n",
    "\n",
    "batch_size = 200 #размер мини-батча\n",
    "\n",
    "for epoch in range(num_epochs):\n",
    "    # In each epoch, we do a full pass over the training data:\n",
    "    train_err = 0\n",
    "    train_acc = 0\n",
    "    train_batches = 0\n",
    "    start_time = time.time()\n",
    "    for batch in iterate_minibatches(X_train, y_train,batch_size):\n",
    "        inputs, targets = batch\n",
    "        train_err_batch, train_acc_batch= train_fun(inputs, targets)\n",
    "        train_err += train_err_batch\n",
    "        train_acc += train_acc_batch\n",
    "        train_batches += 1\n",
    "\n",
    "    # And a full pass over the validation data:\n",
    "    val_acc = 0\n",
    "    val_batches = 0\n",
    "    for batch in iterate_minibatches(X_val, y_val, batch_size):\n",
    "        inputs, targets = batch\n",
    "        val_acc += accuracy_fun(inputs, targets)\n",
    "        val_batches += 1\n",
    "\n",
    "    \n",
    "    # Then we print the results for this epoch:\n",
    "    print(\"Epoch {} of {} took {:.3f}s\".format(\n",
    "        epoch + 1, num_epochs, time.time() - start_time))\n",
    "\n",
    "    print(\"  training loss (in-iteration):\\t\\t{:.6f}\".format(train_err / train_batches))\n",
    "    print(\"  train accuracy:\\t\\t{:.2f} %\".format(\n",
    "        train_acc / train_batches * 100))\n",
    "    print(\"  validation accuracy:\\t\\t{:.2f} %\".format(\n",
    "        val_acc / val_batches * 100))"
   ]
  },
  {
   "cell_type": "code",
   "execution_count": 64,
   "metadata": {
    "collapsed": false
   },
   "outputs": [
    {
     "name": "stdout",
     "output_type": "stream",
     "text": [
      "Final results:\n",
      "  test accuracy:\t\t98.38 %\n"
     ]
    }
   ],
   "source": [
    "test_acc = 0\n",
    "test_batches = 0\n",
    "for batch in iterate_minibatches(X_test, y_test, 500):\n",
    "    inputs, targets = batch\n",
    "    acc = accuracy_fun(inputs, targets)\n",
    "    test_acc += acc\n",
    "    test_batches += 1\n",
    "print(\"Final results:\")\n",
    "print(\"  test accuracy:\\t\\t{:.2f} %\".format(\n",
    "    test_acc / test_batches * 100))"
   ]
  },
  {
   "cell_type": "markdown",
   "metadata": {},
   "source": [
    "Отчётик, примерный его вид.\n",
    "\n",
    "Творческий подход приветствуется, но хотелось бы узнать про следующие вещи:\n",
    "* идея\n",
    "* краткая история правок\n",
    "* как выглядит сеть и почему\n",
    "* каким методом обучается и почему\n",
    "* регуляризована ли и как\n",
    "\n",
    "Строгих математических выводов от вас никто не ждёт, вариант \n",
    " * \"Попробовал так, получилось лучше, чем вот-так, а тот третий вариант по названию не понравился\" - не предел мечты, но __ок__\n",
    " * \"Почитал такие статьи, сделал такие эксперименты, пришёл к такому выводу\" - __идеально_\n",
    " * \"сделал так, потому что в вон-той демке другой чувак так сделал, но тебе об этом не скажу, а придумаю какую-нибудь наукообразную чушь\" - __не ок__"
   ]
  },
  {
   "cell_type": "markdown",
   "metadata": {},
   "source": [
    "### Привет, я `@menshikh-iv`, и вот моя история\n",
    "\n",
    "Когда-то давно, когда трава была зеленее, а до дедлайна ещё оставалось больше часа, мне в голову пришла идея:\n",
    "\n",
    "Нужно посмотреть, как чОткие пацаны делают state of the art на MNIST (http://rodrigob.github.io/are_we_there_yet/build/classification_datasets_results.html - хорошая подборка релевантных статей).\n",
    "Стало грустно, так как времени совсем мало, поэтому ....\n",
    "\n",
    "##### А давай, я сделаю нейронку, которая\n",
    "будет содержать в себе пару мешков волшебной пыли и возьмёт эти несчастные 99% accuracy. Учить как обычно (не хочется заморачиваться с аугментацией и прочими техниками), т.к. до дедлайна слишком мало времени. Набросаем свёрток  и поглядим что выйдет.\n",
    "\n",
    "\n",
    "Начал я значит с того, что прицепил входной слой к выходному софтмаксу (чтобы получить лулзов), это работало плоховато, но работало, я аж удивился от неожиданности.\n",
    "\n",
    "Вначале я добавил один сверточный слой и прогнал 20 итераций. Было слишком медленно, хотя я сконфигурировал гпу заранее, полез разбираться. Оказалось, что theano просто перестала видеть карту, хотя в nvidia-smi всё в порядке (у них про это куча issue на гитхабе открытых, никто не может понять причину).\n",
    "\n",
    "##### В один прекрасный день, когда ничего не предвещало беды,\n",
    "В итоге, после 20 минут, я таки заставил его подхватить карточку, прогнал, получил 94.95% на валидации и был опечален: всё очень плохо.\n",
    "\n",
    "Почесав репу, я решил добросить дропаут и увеличить батч до 200 (вообще тему с оверфитом нужно проверять, а не угадывать, но у нас же час до дедлайна, придётся ванговать). В итоге, получаем 97.54 (что соответствует варианту \"is fine too\", но чсв совершенно не удволетворяет).\n",
    "\n",
    "Окей, меняем rmspror на adadelta, подкручиваем дропаут, доползли до 98.22%. Окей, неплохо идём. Теперь попробуем немного усилить сетку ещё одним полносвязным слоем и понаблюдать за ошибкой, достигли 98.36%, чёрт, дальше видимо будет сложнее\n",
    "\n",
    "...\n",
    "\n",
    "Прошло некоторое время с попытками усложнения сетки в виде макспулинга и прочих приблуд, но лучше что-то сделать не получилось (кажется, что там есть потенциал, но тренируется это всё слишком медленно в условиях ограниченного времени). Ещё чуток поколдовав, сделал что-то в районе 98.4% и дальше не шло.\n",
    "\n",
    "Вот и подошло время дедлайна, достигнуть быстро 99% не вышло :(\n",
    "\n",
    "\n",
    "\n",
    "##### И вот, спустя $\\infty$ попыток, на свет появилась\n",
    "Сonv2D(15, 5)\n",
    "Dense(150, leaky_rectify)\n",
    "Dropout(0.5)\n",
    "Dense(10, softmax)\n",
    "\n",
    "\n",
    "Которая, после стольких мук, часа полтора обучения дала-таки точность\n",
    "\n",
    "* точность на обучении - 99.7%\n",
    "* точность на валидации - 98.44%\n",
    "* точность на тесте - 98.38%\n",
    "\n",
    "\n",
    "[опциональное послесловие и пожелания автору задания сдохнуть в страшных муках]"
   ]
  },
  {
   "cell_type": "code",
   "execution_count": null,
   "metadata": {
    "collapsed": true
   },
   "outputs": [],
   "source": []
  }
 ],
 "metadata": {
  "kernelspec": {
   "display_name": "Python 2",
   "language": "python",
   "name": "python2"
  },
  "language_info": {
   "codemirror_mode": {
    "name": "ipython",
    "version": 2
   },
   "file_extension": ".py",
   "mimetype": "text/x-python",
   "name": "python",
   "nbconvert_exporter": "python",
   "pygments_lexer": "ipython2",
   "version": "2.7.12+"
  }
 },
 "nbformat": 4,
 "nbformat_minor": 0
}
