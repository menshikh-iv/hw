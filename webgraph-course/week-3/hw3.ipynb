{
 "cells": [
  {
   "cell_type": "code",
   "execution_count": 1,
   "metadata": {
    "collapsed": true
   },
   "outputs": [],
   "source": [
    "import networkx as nx\n",
    "G = nx.read_edgelist(\"3.graph.txt\", nodetype=int, create_using=nx.MultiDiGraph())"
   ]
  },
  {
   "cell_type": "code",
   "execution_count": 13,
   "metadata": {
    "collapsed": false
   },
   "outputs": [
    {
     "data": {
      "image/png": "[encoded data removed]",
      "text/plain": [
       "<matplotlib.figure.Figure at 0x7f43a0080c90>"
      ]
     },
     "metadata": {},
     "output_type": "display_data"
    },
    {
     "name": "stdout",
     "output_type": "stream",
     "text": [
      "(-0.72363195619655984, array([[  2.13524268e-03,  -1.86350647e+00],\n",
      "       [ -1.86350647e+00,   2.07867032e+03]]))\n",
      "(-0.72363195619655984, 527.59168888861018)\n"
     ]
    }
   ],
   "source": [
    "from collections import defaultdict\n",
    "%matplotlib inline\n",
    "import matplotlib.pyplot as plt\n",
    "import numpy as np\n",
    "from scipy.optimize import curve_fit\n",
    "\n",
    "def get_x(graph):\n",
    "    result = defaultdict(int)\n",
    "    for u, v in graph.edges():\n",
    "        result[(graph.degree(u), graph.degree(v))] += 1\n",
    "        result[(graph.degree(v), graph.degree(u))] += 1\n",
    "        \n",
    "    return result\n",
    "\n",
    "\n",
    "degrees = set(G.degree().values())\n",
    "X = get_x(G)\n",
    "degs = []\n",
    "assorts = []\n",
    "\n",
    "for d in sorted(degrees):\n",
    "    dnn = float(sum(d1 * X[(d1, d)] for d1 in degrees)) / sum(X[(d1, d)] for d1 in degrees)\n",
    "    degs.append(d)\n",
    "    assorts.append(dnn)\n",
    "    \n",
    "degs = np.array(degs, dtype=np.float32)\n",
    "assorts = np.array(assorts, dtype=np.float32)\n",
    "\n",
    "def opt_function(dgs, sgm, beta):\n",
    "    return beta * dgs ** sgm \n",
    "\n",
    "\n",
    "popt, pcov = curve_fit(opt_function, degs, assorts)\n",
    "\n",
    "sigma, beta = popt\n",
    "\n",
    "plt.loglog(degs, assorts, ls='None', marker='o')\n",
    "plt.loglog(degs, opt_function(degs, sigma, beta))\n",
    "\n",
    "plt.show()\n",
    "print(sigma, pcov)\n",
    "print(sigma, beta)"
   ]
  },
  {
   "cell_type": "code",
   "execution_count": 14,
   "metadata": {
    "collapsed": false
   },
   "outputs": [
    {
     "name": "stdout",
     "output_type": "stream",
     "text": [
      "-0.723631956197\n"
     ]
    },
    {
     "data": {
      "text/plain": [
       "(407875.22, 407937.06)"
      ]
     },
     "execution_count": 14,
     "metadata": {},
     "output_type": "execute_result"
    }
   ],
   "source": [
    "print(sigma)\n",
    "((degs ** sigma - assorts) ** 2).sum(), ((degs ** -0.75 - assorts) ** 2).sum()"
   ]
  },
  {
   "cell_type": "code",
   "execution_count": null,
   "metadata": {
    "collapsed": true
   },
   "outputs": [],
   "source": [
    "def l2(a1, a2):\n",
    "    return ((a1 - a2) ** 2).sum()"
   ]
  },
  {
   "cell_type": "code",
   "execution_count": null,
   "metadata": {
    "collapsed": false
   },
   "outputs": [],
   "source": [
    "l2(assorts, degs ** sigma), l2(assorts, degs ** -sigma)"
   ]
  },
  {
   "cell_type": "code",
   "execution_count": 8,
   "metadata": {
    "collapsed": false
   },
   "outputs": [
    {
     "data": {
      "text/plain": [
       "0.0"
      ]
     },
     "execution_count": 8,
     "metadata": {},
     "output_type": "execute_result"
    }
   ],
   "source": [
    "((assorts - assorts) ** 2).sum()"
   ]
  },
  {
   "cell_type": "code",
   "execution_count": null,
   "metadata": {
    "collapsed": false
   },
   "outputs": [],
   "source": [
    "degs ** -sigma"
   ]
  },
  {
   "cell_type": "code",
   "execution_count": null,
   "metadata": {
    "collapsed": false
   },
   "outputs": [],
   "source": [
    "assorts"
   ]
  },
  {
   "cell_type": "code",
   "execution_count": null,
   "metadata": {
    "collapsed": false
   },
   "outputs": [],
   "source": [
    "l2(assorts, degs ** (sigma + 0.01))"
   ]
  },
  {
   "cell_type": "code",
   "execution_count": null,
   "metadata": {
    "collapsed": true
   },
   "outputs": [],
   "source": []
  }
 ],
 "metadata": {
  "kernelspec": {
   "display_name": "Python 2",
   "language": "python",
   "name": "python2"
  },
  "language_info": {
   "codemirror_mode": {
    "name": "ipython",
    "version": 2
   },
   "file_extension": ".py",
   "mimetype": "text/x-python",
   "name": "python",
   "nbconvert_exporter": "python",
   "pygments_lexer": "ipython2",
   "version": "2.7.12+"
  }
 },
 "nbformat": 4,
 "nbformat_minor": 1
}
