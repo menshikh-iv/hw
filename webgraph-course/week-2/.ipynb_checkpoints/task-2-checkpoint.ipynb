{
 "cells": [
  {
   "cell_type": "markdown",
   "metadata": {},
   "source": [
    "### Найти число вершин второй степени == 3"
   ]
  },
  {
   "cell_type": "code",
   "execution_count": 1,
   "metadata": {
    "collapsed": true
   },
   "outputs": [],
   "source": []
  },
  {
   "cell_type": "code",
   "execution_count": 12,
   "metadata": {
    "collapsed": false
   },
   "outputs": [
    {
     "name": "stdout",
     "output_type": "stream",
     "text": [
      "1000\n",
      "2000\n",
      "3000\n",
      "4000\n",
      "5000\n",
      "6000\n",
      "7000\n",
      "8000\n",
      "9000\n",
      "10000\n"
     ]
    }
   ],
   "source": [
    "import networkx as nx\n",
    "\n",
    "g = nx.read_edgelist(\"2.graph.txt\", nodetype=int)\n",
    "\n",
    "node2deg = {}\n",
    "edges = g.edges()\n",
    "\n",
    "for node in g.nodes():\n",
    "    deg = 0\n",
    "    for (u, v) in edges:\n",
    "        if u == node or v == node:\n",
    "            continue\n",
    "            \n",
    "        if not (g.has_edge(u, node) or g.has_edge(v, node)):\n",
    "            continue\n",
    "\n",
    "        deg += 1\n",
    "        \n",
    "    node2deg[node] = deg\n",
    "    \n",
    "    if (node + 1) % 1000 == 0:\n",
    "        print(node + 1)"
   ]
  },
  {
   "cell_type": "code",
   "execution_count": 14,
   "metadata": {
    "collapsed": false
   },
   "outputs": [
    {
     "data": {
      "text/plain": [
       "1030"
      ]
     },
     "execution_count": 14,
     "metadata": {},
     "output_type": "execute_result"
    }
   ],
   "source": [
    "len(filter(lambda _: _ == 3, node2deg.values()))"
   ]
  },
  {
   "cell_type": "code",
   "execution_count": 7,
   "metadata": {
    "collapsed": false
   },
   "outputs": [
    {
     "data": {
      "text/plain": [
       "834"
      ]
     },
     "execution_count": 7,
     "metadata": {},
     "output_type": "execute_result"
    }
   ],
   "source": [
    "len(filter(lambda _: _ == 3, node2deg.values()))"
   ]
  }
 ],
 "metadata": {
  "kernelspec": {
   "display_name": "Python 2",
   "language": "python",
   "name": "python2"
  },
  "language_info": {
   "codemirror_mode": {
    "name": "ipython",
    "version": 2
   },
   "file_extension": ".py",
   "mimetype": "text/x-python",
   "name": "python",
   "nbconvert_exporter": "python",
   "pygments_lexer": "ipython2",
   "version": "2.7.12+"
  }
 },
 "nbformat": 4,
 "nbformat_minor": 1
}
