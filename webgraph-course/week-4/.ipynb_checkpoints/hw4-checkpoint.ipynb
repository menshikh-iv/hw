{
 "cells": [
  {
   "cell_type": "code",
   "execution_count": 1,
   "metadata": {
    "collapsed": false
   },
   "outputs": [],
   "source": [
    "import networkx as nx\n",
    "\n",
    "g = nx.read_edgelist(\"4.graph.txt\", nodetype=int)"
   ]
  },
  {
   "cell_type": "code",
   "execution_count": null,
   "metadata": {
    "collapsed": false
   },
   "outputs": [],
   "source": [
    "import itertools as it\n",
    "\n",
    "\n",
    "def disjoined(u, v, w):\n",
    "    if g.has_edge(u, v): \n",
    "        return False\n",
    "\n",
    "    if g.has_edge(v, w):\n",
    "        return False\n",
    "\n",
    "    if g.has_edge(w, u):\n",
    "        return False\n",
    "    \n",
    "    return True\n",
    "    \n",
    "    \n",
    "def nei_intersection(u, v, w):\n",
    "    return set(g.neighbors(u)) & set(g.neighbors(v)) & set(g.neighbors(w))\n",
    "\n",
    "\n",
    "with open(\"triplets.txt\", 'w') as outfile:\n",
    "    for idx, (u, v, w) in enumerate(it.combinations(g.nodes(), 3)):\n",
    "        if (idx + 1) % 1000000 == 0:\n",
    "            print(idx + 1)\n",
    "        \n",
    "        if not disjoined(u, v, w):\n",
    "            continue\n",
    "            \n",
    "        comm_nei = nei_intersection(u, v, w)\n",
    "        if len(comm_nei) < 3:\n",
    "            continue\n",
    "\n",
    "        outfile.write(\"{},{},{}\\n\".format(u, v, w))"
   ]
  },
  {
   "cell_type": "code",
   "execution_count": 2,
   "metadata": {
    "collapsed": false
   },
   "outputs": [
    {
     "name": "stdout",
     "output_type": "stream",
     "text": [
      "497 triplets.txt\r\n"
     ]
    }
   ],
   "source": [
    "!wc -l triplets.txt"
   ]
  },
  {
   "cell_type": "code",
   "execution_count": 3,
   "metadata": {
    "collapsed": true
   },
   "outputs": [],
   "source": [
    "with open(\"triplets.txt\") as infile:\n",
    "    triplets = [map(int, line.strip().split(\",\")) for line in infile]"
   ]
  },
  {
   "cell_type": "code",
   "execution_count": 4,
   "metadata": {
    "collapsed": true
   },
   "outputs": [],
   "source": [
    "import itertools as it\n",
    "\n",
    "def tri_nei_int(t1, t2):\n",
    "    if len(set(t1) & set(it.chain.from_iterable([g.neighbors(_) for _ in t1]))) == 3:\n",
    "        return True\n",
    "    \n",
    "            \n",
    "    return False"
   ]
  },
  {
   "cell_type": "code",
   "execution_count": 5,
   "metadata": {
    "collapsed": false
   },
   "outputs": [
    {
     "data": {
      "text/plain": [
       "1722"
      ]
     },
     "execution_count": 5,
     "metadata": {},
     "output_type": "execute_result"
    }
   ],
   "source": [
    "result = []\n",
    "\n",
    "for idx, t1 in enumerate(triplets):\n",
    "    for idy, t2 in enumerate(triplets):\n",
    "        if idx >= idy:\n",
    "            continue\n",
    "            \n",
    "        if len(set(t1) & set(t2)):\n",
    "            continue\n",
    "            \n",
    "        if tri_nei_int(t1, t2):\n",
    "            result.append((t1, t2))\n",
    "            \n",
    "len(result)"
   ]
  },
  {
   "cell_type": "code",
   "execution_count": null,
   "metadata": {
    "collapsed": false
   },
   "outputs": [],
   "source": [
    "len(result)"
   ]
  },
  {
   "cell_type": "code",
   "execution_count": null,
   "metadata": {
    "collapsed": false
   },
   "outputs": [],
   "source": [
    "for (t1, t2) in result:\n",
    "    if not disjoined(*t1):\n",
    "        print(t1)\n",
    "        \n",
    "    if not disjoined(*t2):\n",
    "        print(t2)\n",
    "        \n",
    "    if not tri_nei_int(t1, t2):\n",
    "        print(t1, t2)\n",
    "        \n",
    "        \n",
    "    all_neis = reduce(lambda s1, s2: s1 & s2, [set(g.neighbors(_)) for _ in t1 + t2], set())\n",
    "    print(len(all_neis))"
   ]
  },
  {
   "cell_type": "code",
   "execution_count": null,
   "metadata": {
    "collapsed": false
   },
   "outputs": [],
   "source": [
    "result"
   ]
  },
  {
   "cell_type": "code",
   "execution_count": null,
   "metadata": {
    "collapsed": true
   },
   "outputs": [],
   "source": [
    "tmp = [(tuple(t1), tuple(t2)) for (t1, t2) in result] + [(tuple(t2), tuple(t1)) for (t1, t2) in result]"
   ]
  },
  {
   "cell_type": "code",
   "execution_count": null,
   "metadata": {
    "collapsed": false
   },
   "outputs": [],
   "source": [
    "len(tmp), len(set(tmp))"
   ]
  },
  {
   "cell_type": "code",
   "execution_count": null,
   "metadata": {
    "collapsed": false
   },
   "outputs": [],
   "source": [
    "tri_nei_int([66, 408, 651], [465, 576, 894])"
   ]
  },
  {
   "cell_type": "code",
   "execution_count": null,
   "metadata": {
    "collapsed": false
   },
   "outputs": [],
   "source": [
    "g.has_edge(576, 894)"
   ]
  },
  {
   "cell_type": "code",
   "execution_count": null,
   "metadata": {
    "collapsed": true
   },
   "outputs": [],
   "source": [
    "for t1 in triplets:\n",
    "    for t2 in triplets:\n",
    "        if t1"
   ]
  },
  {
   "cell_type": "code",
   "execution_count": null,
   "metadata": {
    "collapsed": true
   },
   "outputs": [],
   "source": []
  },
  {
   "cell_type": "code",
   "execution_count": null,
   "metadata": {
    "collapsed": true
   },
   "outputs": [],
   "source": []
  }
 ],
 "metadata": {
  "kernelspec": {
   "display_name": "Python 2",
   "language": "python",
   "name": "python2"
  },
  "language_info": {
   "codemirror_mode": {
    "name": "ipython",
    "version": 2
   },
   "file_extension": ".py",
   "mimetype": "text/x-python",
   "name": "python",
   "nbconvert_exporter": "python",
   "pygments_lexer": "ipython2",
   "version": "2.7.12+"
  }
 },
 "nbformat": 4,
 "nbformat_minor": 1
}
